{
 "cells": [
  {
   "cell_type": "code",
   "execution_count": 701,
   "metadata": {},
   "outputs": [],
   "source": [
    "from numpy import concatenate\n",
    "from matplotlib import pyplot\n",
    "from pandas import read_csv\n",
    "from pandas import DataFrame\n",
    "from pandas import concat\n",
    "from sklearn.preprocessing import MinMaxScaler\n",
    "from sklearn.preprocessing import LabelEncoder\n",
    "from sklearn.metrics import mean_squared_error\n",
    "from keras.models import Sequential\n",
    "from keras.layers import Dense\n",
    "from keras.layers import LSTM\n",
    "import numpy as np\n",
    "import tensorflow as tf\n",
    "import keras\n",
    "import matplotlib.pyplot as plt\n",
    "import pandas as pd\n",
    "import sys"
   ]
  },
  {
   "cell_type": "code",
   "execution_count": 702,
   "metadata": {},
   "outputs": [],
   "source": [
    "CHOSEN = 9"
   ]
  },
  {
   "cell_type": "code",
   "execution_count": 703,
   "metadata": {},
   "outputs": [],
   "source": [
    "new_model = tf.keras.models.load_model('m90_n90_s150_i100_l1600k/my_model')"
   ]
  },
  {
   "cell_type": "code",
   "execution_count": 704,
   "metadata": {},
   "outputs": [],
   "source": [
    "train_mean = pd.Series({'Outer Temp.':24.985298,'Initial Inner Temp.':69.970662,'Outer Ws':9.854125,'Inner Temp.':55.485196})\n",
    "train_std = pd.Series({'Outer Temp.':2.868629,'Initial Inner Temp.':5.775671,'Outer Ws':5.751491,'Inner Temp.':5.213089})\n"
   ]
  },
  {
   "cell_type": "code",
   "execution_count": 705,
   "metadata": {},
   "outputs": [
    {
     "name": "stdout",
     "output_type": "stream",
     "text": [
      "Num GPUs Available:  1\n"
     ]
    }
   ],
   "source": [
    "print(\"Num GPUs Available: \", len(tf.config.list_physical_devices('GPU')))"
   ]
  },
  {
   "cell_type": "code",
   "execution_count": 706,
   "metadata": {},
   "outputs": [
    {
     "data": {
      "text/plain": [
       "True"
      ]
     },
     "execution_count": 706,
     "metadata": {},
     "output_type": "execute_result"
    }
   ],
   "source": [
    "tf.test.is_built_with_gpu_support()"
   ]
  },
  {
   "cell_type": "code",
   "execution_count": 707,
   "metadata": {},
   "outputs": [],
   "source": [
    "PREV_SIZE = 90\n",
    "SIZE = 90"
   ]
  },
  {
   "cell_type": "code",
   "execution_count": 708,
   "metadata": {},
   "outputs": [],
   "source": [
    "class WindowGenerator():\n",
    "  def __init__(self, input_width, label_width, shift,\n",
    "               train_df, val_df, test_df,\n",
    "               label_columns=None):\n",
    "    # Store the raw data.\n",
    "    self.train_df = train_df\n",
    "    self.val_df = val_df\n",
    "    self.test_df = test_df\n",
    "\n",
    "    # Work out the label column indices.\n",
    "    self.label_columns = label_columns\n",
    "    if label_columns is not None:\n",
    "      self.label_columns_indices = {name: i for i, name in\n",
    "                                    enumerate(label_columns)}\n",
    "    self.column_indices = {name: i for i, name in\n",
    "                           enumerate(train_df.columns)}\n",
    "\n",
    "    # Work out the window parameters.\n",
    "    self.input_width = input_width\n",
    "    self.label_width = label_width\n",
    "    self.shift = shift\n",
    "\n",
    "    self.total_window_size = input_width + shift\n",
    "\n",
    "    self.input_slice = slice(0, input_width)\n",
    "    self.input_indices = np.arange(self.total_window_size)[self.input_slice]\n",
    "\n",
    "    self.label_start = self.total_window_size - self.label_width\n",
    "    self.labels_slice = slice(self.label_start, None)\n",
    "    self.label_indices = np.arange(self.total_window_size)[self.labels_slice]\n",
    "\n",
    "  def __repr__(self):\n",
    "    return '\\n'.join([\n",
    "        f'Total window size: {self.total_window_size}',\n",
    "        f'Input indices: {self.input_indices}',\n",
    "        f'Label indices: {self.label_indices}',\n",
    "        f'Label column name(s): {self.label_columns}'])"
   ]
  },
  {
   "cell_type": "code",
   "execution_count": 709,
   "metadata": {},
   "outputs": [],
   "source": [
    "def split_window(self, features):\n",
    "  inputs = features[:, self.input_slice, :]\n",
    "  labels = features[:, self.labels_slice, :]\n",
    "  if self.label_columns is not None:\n",
    "    labels = tf.stack(\n",
    "        [labels[:, :, self.column_indices[name]] for name in self.label_columns],\n",
    "        axis=-1)\n",
    "\n",
    "  # Slicing doesn't preserve static shape information, so set the shapes\n",
    "  # manually. This way the `tf.data.Datasets` are easier to inspect.\n",
    "  inputs.set_shape([None, self.input_width, None])\n",
    "  labels.set_shape([None, self.label_width, None])\n",
    "\n",
    "  return inputs, labels\n",
    "\n",
    "WindowGenerator.split_window = split_window"
   ]
  },
  {
   "cell_type": "code",
   "execution_count": 710,
   "metadata": {},
   "outputs": [],
   "source": [
    "def make_dataset(self, data):\n",
    "  data = np.array(data, dtype=np.float32)\n",
    "  ds = tf.keras.utils.timeseries_dataset_from_array(\n",
    "      data=data,\n",
    "      targets=None,\n",
    "      sequence_length=self.total_window_size,\n",
    "      sequence_stride=1,\n",
    "      shuffle=True,\n",
    "      batch_size=32,)\n",
    "\n",
    "  ds = ds.map(self.split_window)\n",
    "\n",
    "  return ds\n",
    "\n",
    "WindowGenerator.make_dataset = make_dataset"
   ]
  },
  {
   "cell_type": "code",
   "execution_count": 711,
   "metadata": {},
   "outputs": [],
   "source": [
    "@property\n",
    "def train(self):\n",
    "  return self.make_dataset(self.train_df)\n",
    "\n",
    "@property\n",
    "def val(self):\n",
    "  return self.make_dataset(self.val_df)\n",
    "\n",
    "@property\n",
    "def test(self):\n",
    "  return self.make_dataset(self.test_df)\n",
    "\n",
    "@property\n",
    "def example(self):\n",
    "  \"\"\"Get and cache an example batch of `inputs, labels` for plotting.\"\"\"\n",
    "  result = self.test\n",
    "  self._example = result\n",
    "  return result\n",
    "\n",
    "WindowGenerator.train = train\n",
    "WindowGenerator.val = val\n",
    "WindowGenerator.test = test\n",
    "WindowGenerator.example = example"
   ]
  },
  {
   "cell_type": "code",
   "execution_count": 712,
   "metadata": {},
   "outputs": [],
   "source": [
    "def split_window(self, features):\n",
    "  inputs = features[:, self.input_slice, :]\n",
    "  labels = features[:, self.labels_slice, :]\n",
    "  if self.label_columns is not None:\n",
    "    labels = tf.stack(\n",
    "        [labels[:, :, self.column_indices[name]] for name in self.label_columns],\n",
    "        axis=-1)\n",
    "\n",
    "  # Slicing doesn't preserve static shape information, so set the shapes\n",
    "  # manually. This way the `tf.data.Datasets` are easier to inspect.\n",
    "  inputs.set_shape([None, self.input_width, None])\n",
    "  labels.set_shape([None, self.label_width, None])\n",
    "\n",
    "  return inputs, labels\n",
    "\n",
    "WindowGenerator.split_window = split_window"
   ]
  },
  {
   "cell_type": "code",
   "execution_count": 713,
   "metadata": {},
   "outputs": [],
   "source": [
    "#HERE"
   ]
  },
  {
   "cell_type": "code",
   "execution_count": 714,
   "metadata": {},
   "outputs": [],
   "source": [
    "#new_model = tf.keras.models.load_model('m60_n90_s64_i100_l00k/my_model')\n",
    "#new_model = tf.keras.models.load_model('double_model_no_random/my_model')\n",
    "#new_model = tf.keras.models.load_model('model_60_24_con_sep100_800k_90_mae_2/my_model_noreg')"
   ]
  },
  {
   "cell_type": "code",
   "execution_count": 715,
   "metadata": {},
   "outputs": [],
   "source": [
    "#TEST 1* : 'training_cases_twov_90_escalon_t_int_2.csv'\n",
    "#TEST 1 'training_cases_twov_90_text_w16.csv'\n",
    "#TEST 2: 'training_cases_twov_90_text_w5.csv'"
   ]
  },
  {
   "cell_type": "code",
   "execution_count": 716,
   "metadata": {},
   "outputs": [],
   "source": [
    "#df2 = pd.read_csv('training_cases_twov_90_escalon_t_int_2.csv',header=0, index_col=0, sep = ';')\n",
    "#df2 = pd.read_csv('training_cases_twov_90_text_w16.csv',header=0, index_col=0, sep = ';')\n",
    "#df2 = pd.read_csv('training_cases_twov_90_text_w5.csv',header=0, index_col=0, sep = ';')\n",
    "#df2 = pd.read_csv('training_cases_twov_90_escalon_t_int_4_ctr-10_1.csv',header=0, index_col=0, sep = ';')\n"
   ]
  },
  {
   "cell_type": "code",
   "execution_count": null,
   "metadata": {},
   "outputs": [],
   "source": [
    "\n"
   ]
  },
  {
   "cell_type": "code",
   "execution_count": 717,
   "metadata": {},
   "outputs": [],
   "source": [
    "df_list = []"
   ]
  },
  {
   "cell_type": "code",
   "execution_count": 718,
   "metadata": {},
   "outputs": [],
   "source": [
    "df_list.append(pd.read_csv('ZTEST1training_cases_twov_90_text_w16.csv',header=0, index_col=0, sep = ';'))\n",
    "df_list.append(pd.read_csv('ZTEST2training_cases_twov_90_text_w5.csv',header=0, index_col=0, sep = ';'))\n",
    "df_list.append(pd.read_csv('ZTEST3training_cases_twov_90_tint_68_w8_22.csv',header=0, index_col=0, sep = ';'))\n",
    "df_list.append(pd.read_csv('ZTEST4training_cases_twov_90_tint_73_w11_26.csv',header=0, index_col=0, sep = ';'))\n",
    "df_list.append(pd.read_csv('ZTEST5training_cases_twov_90_text_24_27_cambiow_9_6.csv',header=0, index_col=0, sep = ';'))\n",
    "df_list.append(pd.read_csv('ZTEST6training_cases_twov_90_tint_73_70_cambiow_15_11.csv',header=0, index_col=0, sep = ';'))\n",
    "df_list.append(pd.read_csv('ZTEST7training_cases_twov_90_text_21_23_tint_74_69_w10.csv',header=0, index_col=0, sep = ';'))\n",
    "df_list.append(pd.read_csv('ZTEST8training_cases_twov_90_text_26_24_tint_71_66_w_3_5.csv',header=0, index_col=0, sep = ';'))\n",
    "df_list.append(pd.read_csv('simulated_data_sep_var_ambas_T_rn_150.csv',header=0, index_col=0, sep = ';'))\n",
    "df_list.append(pd.read_csv('simulated_data_sep_var_ambas_T_rn_150.csv',header=0, index_col=0, sep = ';'))"
   ]
  },
  {
   "cell_type": "code",
   "execution_count": 719,
   "metadata": {},
   "outputs": [],
   "source": [
    "chosen_df = CHOSEN -1\n",
    "df2 = df_list[chosen_df]"
   ]
  },
  {
   "cell_type": "code",
   "execution_count": 720,
   "metadata": {},
   "outputs": [],
   "source": [
    "#zeros_df = pd.DataFrame(0, index=range(SIZE), columns=df2.columns)\n",
    "zeros_df = pd.DataFrame(0, index=range(SIZE-2), columns=df2.columns)\n",
    "df2 = pd.concat([zeros_df,df2],ignore_index=True)"
   ]
  },
  {
   "cell_type": "code",
   "execution_count": 721,
   "metadata": {},
   "outputs": [],
   "source": [
    "df2['Outer Temp.'] = (df2['Outer Temp.'] - train_mean['Outer Temp.']) / train_std['Outer Temp.']\n",
    "df2['Outer Ws'] = (df2['Outer Ws'] - train_mean['Outer Ws']) / train_std['Outer Ws']\n",
    "df2['Initial Inner Temp.'] = (df2['Initial Inner Temp.'] - train_mean['Initial Inner Temp.']) / train_std['Initial Inner Temp.']\n",
    "df2['Inner Temp.'] = (df2['Inner Temp.'] - train_mean['Inner Temp.']) / train_std['Inner Temp.']\n"
   ]
  },
  {
   "cell_type": "code",
   "execution_count": 722,
   "metadata": {},
   "outputs": [],
   "source": [
    "dataset = df2[0:100000]"
   ]
  },
  {
   "cell_type": "code",
   "execution_count": 723,
   "metadata": {},
   "outputs": [
    {
     "data": {
      "text/plain": [
       "<BatchDataset element_spec=TensorSpec(shape=(None, None, 4), dtype=tf.float32, name=None)>"
      ]
     },
     "execution_count": 723,
     "metadata": {},
     "output_type": "execute_result"
    }
   ],
   "source": [
    "def make_dataset(data):\n",
    "  data = np.array(data, dtype=np.float32)\n",
    "  ds = tf.keras.utils.timeseries_dataset_from_array(\n",
    "      data=data,\n",
    "      targets=None,\n",
    "      sequence_length=PREV_SIZE,\n",
    "      sequence_stride=1,\n",
    "      shuffle=False,\n",
    "      batch_size=1000)\n",
    "\n",
    "  return ds\n",
    "\n",
    "ds = make_dataset(dataset)\n",
    "\n",
    "ds"
   ]
  },
  {
   "cell_type": "code",
   "execution_count": 724,
   "metadata": {},
   "outputs": [
    {
     "name": "stdout",
     "output_type": "stream",
     "text": [
      "100/100 [==============================] - 2s 10ms/step\n"
     ]
    }
   ],
   "source": [
    "array = new_model.predict(ds)\n",
    "array = array [:,:,0]"
   ]
  },
  {
   "cell_type": "code",
   "execution_count": 725,
   "metadata": {},
   "outputs": [
    {
     "data": {
      "text/html": [
       "<div>\n",
       "<style scoped>\n",
       "    .dataframe tbody tr th:only-of-type {\n",
       "        vertical-align: middle;\n",
       "    }\n",
       "\n",
       "    .dataframe tbody tr th {\n",
       "        vertical-align: top;\n",
       "    }\n",
       "\n",
       "    .dataframe thead th {\n",
       "        text-align: right;\n",
       "    }\n",
       "</style>\n",
       "<table border=\"1\" class=\"dataframe\">\n",
       "  <thead>\n",
       "    <tr style=\"text-align: right;\">\n",
       "      <th></th>\n",
       "      <th>0</th>\n",
       "      <th>1</th>\n",
       "      <th>2</th>\n",
       "      <th>3</th>\n",
       "      <th>4</th>\n",
       "      <th>5</th>\n",
       "      <th>6</th>\n",
       "      <th>7</th>\n",
       "      <th>8</th>\n",
       "      <th>9</th>\n",
       "      <th>...</th>\n",
       "      <th>80</th>\n",
       "      <th>81</th>\n",
       "      <th>82</th>\n",
       "      <th>83</th>\n",
       "      <th>84</th>\n",
       "      <th>85</th>\n",
       "      <th>86</th>\n",
       "      <th>87</th>\n",
       "      <th>88</th>\n",
       "      <th>89</th>\n",
       "    </tr>\n",
       "  </thead>\n",
       "  <tbody>\n",
       "    <tr>\n",
       "      <th>0</th>\n",
       "      <td>-4.673723</td>\n",
       "      <td>-4.676075</td>\n",
       "      <td>-4.705442</td>\n",
       "      <td>-4.684424</td>\n",
       "      <td>-4.703574</td>\n",
       "      <td>-4.713283</td>\n",
       "      <td>-4.730158</td>\n",
       "      <td>-4.743946</td>\n",
       "      <td>-4.760961</td>\n",
       "      <td>-4.774918</td>\n",
       "      <td>...</td>\n",
       "      <td>-5.773629</td>\n",
       "      <td>-5.766006</td>\n",
       "      <td>-5.778986</td>\n",
       "      <td>-5.756625</td>\n",
       "      <td>-5.763062</td>\n",
       "      <td>-5.742335</td>\n",
       "      <td>-5.713170</td>\n",
       "      <td>-5.720174</td>\n",
       "      <td>-5.712522</td>\n",
       "      <td>-5.701458</td>\n",
       "    </tr>\n",
       "    <tr>\n",
       "      <th>1</th>\n",
       "      <td>-4.673003</td>\n",
       "      <td>-4.675381</td>\n",
       "      <td>-4.704764</td>\n",
       "      <td>-4.683753</td>\n",
       "      <td>-4.702909</td>\n",
       "      <td>-4.712614</td>\n",
       "      <td>-4.729484</td>\n",
       "      <td>-4.743270</td>\n",
       "      <td>-4.760272</td>\n",
       "      <td>-4.774219</td>\n",
       "      <td>...</td>\n",
       "      <td>-5.773960</td>\n",
       "      <td>-5.766335</td>\n",
       "      <td>-5.779328</td>\n",
       "      <td>-5.756966</td>\n",
       "      <td>-5.763415</td>\n",
       "      <td>-5.742696</td>\n",
       "      <td>-5.713533</td>\n",
       "      <td>-5.720548</td>\n",
       "      <td>-5.712899</td>\n",
       "      <td>-5.701851</td>\n",
       "    </tr>\n",
       "    <tr>\n",
       "      <th>2</th>\n",
       "      <td>-4.673581</td>\n",
       "      <td>-4.675916</td>\n",
       "      <td>-4.705260</td>\n",
       "      <td>-4.684217</td>\n",
       "      <td>-4.703353</td>\n",
       "      <td>-4.713043</td>\n",
       "      <td>-4.729911</td>\n",
       "      <td>-4.743692</td>\n",
       "      <td>-4.760704</td>\n",
       "      <td>-4.774665</td>\n",
       "      <td>...</td>\n",
       "      <td>-5.774194</td>\n",
       "      <td>-5.766568</td>\n",
       "      <td>-5.779553</td>\n",
       "      <td>-5.757181</td>\n",
       "      <td>-5.763623</td>\n",
       "      <td>-5.742898</td>\n",
       "      <td>-5.713727</td>\n",
       "      <td>-5.720739</td>\n",
       "      <td>-5.713087</td>\n",
       "      <td>-5.702027</td>\n",
       "    </tr>\n",
       "    <tr>\n",
       "      <th>3</th>\n",
       "      <td>-4.672944</td>\n",
       "      <td>-4.675346</td>\n",
       "      <td>-4.704732</td>\n",
       "      <td>-4.683723</td>\n",
       "      <td>-4.702891</td>\n",
       "      <td>-4.712597</td>\n",
       "      <td>-4.729482</td>\n",
       "      <td>-4.743281</td>\n",
       "      <td>-4.760301</td>\n",
       "      <td>-4.774261</td>\n",
       "      <td>...</td>\n",
       "      <td>-5.773353</td>\n",
       "      <td>-5.765730</td>\n",
       "      <td>-5.778715</td>\n",
       "      <td>-5.756364</td>\n",
       "      <td>-5.762807</td>\n",
       "      <td>-5.742096</td>\n",
       "      <td>-5.712933</td>\n",
       "      <td>-5.719954</td>\n",
       "      <td>-5.712303</td>\n",
       "      <td>-5.701258</td>\n",
       "    </tr>\n",
       "    <tr>\n",
       "      <th>4</th>\n",
       "      <td>-4.673350</td>\n",
       "      <td>-4.675782</td>\n",
       "      <td>-4.705177</td>\n",
       "      <td>-4.684164</td>\n",
       "      <td>-4.703327</td>\n",
       "      <td>-4.713021</td>\n",
       "      <td>-4.729887</td>\n",
       "      <td>-4.743655</td>\n",
       "      <td>-4.760652</td>\n",
       "      <td>-4.774590</td>\n",
       "      <td>...</td>\n",
       "      <td>-5.773758</td>\n",
       "      <td>-5.766128</td>\n",
       "      <td>-5.779116</td>\n",
       "      <td>-5.756746</td>\n",
       "      <td>-5.763179</td>\n",
       "      <td>-5.742461</td>\n",
       "      <td>-5.713289</td>\n",
       "      <td>-5.720300</td>\n",
       "      <td>-5.712641</td>\n",
       "      <td>-5.701599</td>\n",
       "    </tr>\n",
       "    <tr>\n",
       "      <th>...</th>\n",
       "      <td>...</td>\n",
       "      <td>...</td>\n",
       "      <td>...</td>\n",
       "      <td>...</td>\n",
       "      <td>...</td>\n",
       "      <td>...</td>\n",
       "      <td>...</td>\n",
       "      <td>...</td>\n",
       "      <td>...</td>\n",
       "      <td>...</td>\n",
       "      <td>...</td>\n",
       "      <td>...</td>\n",
       "      <td>...</td>\n",
       "      <td>...</td>\n",
       "      <td>...</td>\n",
       "      <td>...</td>\n",
       "      <td>...</td>\n",
       "      <td>...</td>\n",
       "      <td>...</td>\n",
       "      <td>...</td>\n",
       "      <td>...</td>\n",
       "    </tr>\n",
       "    <tr>\n",
       "      <th>99906</th>\n",
       "      <td>-4.624654</td>\n",
       "      <td>-4.621653</td>\n",
       "      <td>-4.649482</td>\n",
       "      <td>-4.627754</td>\n",
       "      <td>-4.645694</td>\n",
       "      <td>-4.654298</td>\n",
       "      <td>-4.671068</td>\n",
       "      <td>-4.685223</td>\n",
       "      <td>-4.702385</td>\n",
       "      <td>-4.715983</td>\n",
       "      <td>...</td>\n",
       "      <td>-5.901631</td>\n",
       "      <td>-5.893940</td>\n",
       "      <td>-5.907207</td>\n",
       "      <td>-5.884337</td>\n",
       "      <td>-5.892111</td>\n",
       "      <td>-5.871069</td>\n",
       "      <td>-5.841772</td>\n",
       "      <td>-5.848241</td>\n",
       "      <td>-5.841916</td>\n",
       "      <td>-5.829542</td>\n",
       "    </tr>\n",
       "    <tr>\n",
       "      <th>99907</th>\n",
       "      <td>-4.625740</td>\n",
       "      <td>-4.622712</td>\n",
       "      <td>-4.650507</td>\n",
       "      <td>-4.628736</td>\n",
       "      <td>-4.646654</td>\n",
       "      <td>-4.655232</td>\n",
       "      <td>-4.671985</td>\n",
       "      <td>-4.686119</td>\n",
       "      <td>-4.703272</td>\n",
       "      <td>-4.716851</td>\n",
       "      <td>...</td>\n",
       "      <td>-5.901424</td>\n",
       "      <td>-5.893731</td>\n",
       "      <td>-5.906994</td>\n",
       "      <td>-5.884116</td>\n",
       "      <td>-5.891877</td>\n",
       "      <td>-5.870820</td>\n",
       "      <td>-5.841516</td>\n",
       "      <td>-5.847977</td>\n",
       "      <td>-5.841656</td>\n",
       "      <td>-5.829265</td>\n",
       "    </tr>\n",
       "    <tr>\n",
       "      <th>99908</th>\n",
       "      <td>-4.624991</td>\n",
       "      <td>-4.622051</td>\n",
       "      <td>-4.649915</td>\n",
       "      <td>-4.628185</td>\n",
       "      <td>-4.646139</td>\n",
       "      <td>-4.654745</td>\n",
       "      <td>-4.671521</td>\n",
       "      <td>-4.685682</td>\n",
       "      <td>-4.702850</td>\n",
       "      <td>-4.716432</td>\n",
       "      <td>...</td>\n",
       "      <td>-5.901576</td>\n",
       "      <td>-5.893873</td>\n",
       "      <td>-5.907137</td>\n",
       "      <td>-5.884267</td>\n",
       "      <td>-5.892031</td>\n",
       "      <td>-5.870974</td>\n",
       "      <td>-5.841664</td>\n",
       "      <td>-5.848133</td>\n",
       "      <td>-5.841825</td>\n",
       "      <td>-5.829418</td>\n",
       "    </tr>\n",
       "    <tr>\n",
       "      <th>99909</th>\n",
       "      <td>-4.625700</td>\n",
       "      <td>-4.622811</td>\n",
       "      <td>-4.650700</td>\n",
       "      <td>-4.628974</td>\n",
       "      <td>-4.646948</td>\n",
       "      <td>-4.655552</td>\n",
       "      <td>-4.672326</td>\n",
       "      <td>-4.686481</td>\n",
       "      <td>-4.703646</td>\n",
       "      <td>-4.717200</td>\n",
       "      <td>...</td>\n",
       "      <td>-5.900835</td>\n",
       "      <td>-5.893133</td>\n",
       "      <td>-5.906393</td>\n",
       "      <td>-5.883518</td>\n",
       "      <td>-5.891264</td>\n",
       "      <td>-5.870203</td>\n",
       "      <td>-5.840877</td>\n",
       "      <td>-5.847350</td>\n",
       "      <td>-5.841037</td>\n",
       "      <td>-5.828618</td>\n",
       "    </tr>\n",
       "    <tr>\n",
       "      <th>99910</th>\n",
       "      <td>-4.626124</td>\n",
       "      <td>-4.623268</td>\n",
       "      <td>-4.651191</td>\n",
       "      <td>-4.629479</td>\n",
       "      <td>-4.647477</td>\n",
       "      <td>-4.656095</td>\n",
       "      <td>-4.672884</td>\n",
       "      <td>-4.687041</td>\n",
       "      <td>-4.704209</td>\n",
       "      <td>-4.717749</td>\n",
       "      <td>...</td>\n",
       "      <td>-5.901785</td>\n",
       "      <td>-5.894081</td>\n",
       "      <td>-5.907345</td>\n",
       "      <td>-5.884471</td>\n",
       "      <td>-5.892222</td>\n",
       "      <td>-5.871149</td>\n",
       "      <td>-5.841822</td>\n",
       "      <td>-5.848296</td>\n",
       "      <td>-5.841993</td>\n",
       "      <td>-5.829566</td>\n",
       "    </tr>\n",
       "  </tbody>\n",
       "</table>\n",
       "<p>99911 rows × 90 columns</p>\n",
       "</div>"
      ],
      "text/plain": [
       "             0         1         2         3         4         5         6    \n",
       "0     -4.673723 -4.676075 -4.705442 -4.684424 -4.703574 -4.713283 -4.730158  \\\n",
       "1     -4.673003 -4.675381 -4.704764 -4.683753 -4.702909 -4.712614 -4.729484   \n",
       "2     -4.673581 -4.675916 -4.705260 -4.684217 -4.703353 -4.713043 -4.729911   \n",
       "3     -4.672944 -4.675346 -4.704732 -4.683723 -4.702891 -4.712597 -4.729482   \n",
       "4     -4.673350 -4.675782 -4.705177 -4.684164 -4.703327 -4.713021 -4.729887   \n",
       "...         ...       ...       ...       ...       ...       ...       ...   \n",
       "99906 -4.624654 -4.621653 -4.649482 -4.627754 -4.645694 -4.654298 -4.671068   \n",
       "99907 -4.625740 -4.622712 -4.650507 -4.628736 -4.646654 -4.655232 -4.671985   \n",
       "99908 -4.624991 -4.622051 -4.649915 -4.628185 -4.646139 -4.654745 -4.671521   \n",
       "99909 -4.625700 -4.622811 -4.650700 -4.628974 -4.646948 -4.655552 -4.672326   \n",
       "99910 -4.626124 -4.623268 -4.651191 -4.629479 -4.647477 -4.656095 -4.672884   \n",
       "\n",
       "             7         8         9   ...        80        81        82   \n",
       "0     -4.743946 -4.760961 -4.774918  ... -5.773629 -5.766006 -5.778986  \\\n",
       "1     -4.743270 -4.760272 -4.774219  ... -5.773960 -5.766335 -5.779328   \n",
       "2     -4.743692 -4.760704 -4.774665  ... -5.774194 -5.766568 -5.779553   \n",
       "3     -4.743281 -4.760301 -4.774261  ... -5.773353 -5.765730 -5.778715   \n",
       "4     -4.743655 -4.760652 -4.774590  ... -5.773758 -5.766128 -5.779116   \n",
       "...         ...       ...       ...  ...       ...       ...       ...   \n",
       "99906 -4.685223 -4.702385 -4.715983  ... -5.901631 -5.893940 -5.907207   \n",
       "99907 -4.686119 -4.703272 -4.716851  ... -5.901424 -5.893731 -5.906994   \n",
       "99908 -4.685682 -4.702850 -4.716432  ... -5.901576 -5.893873 -5.907137   \n",
       "99909 -4.686481 -4.703646 -4.717200  ... -5.900835 -5.893133 -5.906393   \n",
       "99910 -4.687041 -4.704209 -4.717749  ... -5.901785 -5.894081 -5.907345   \n",
       "\n",
       "             83        84        85        86        87        88        89  \n",
       "0     -5.756625 -5.763062 -5.742335 -5.713170 -5.720174 -5.712522 -5.701458  \n",
       "1     -5.756966 -5.763415 -5.742696 -5.713533 -5.720548 -5.712899 -5.701851  \n",
       "2     -5.757181 -5.763623 -5.742898 -5.713727 -5.720739 -5.713087 -5.702027  \n",
       "3     -5.756364 -5.762807 -5.742096 -5.712933 -5.719954 -5.712303 -5.701258  \n",
       "4     -5.756746 -5.763179 -5.742461 -5.713289 -5.720300 -5.712641 -5.701599  \n",
       "...         ...       ...       ...       ...       ...       ...       ...  \n",
       "99906 -5.884337 -5.892111 -5.871069 -5.841772 -5.848241 -5.841916 -5.829542  \n",
       "99907 -5.884116 -5.891877 -5.870820 -5.841516 -5.847977 -5.841656 -5.829265  \n",
       "99908 -5.884267 -5.892031 -5.870974 -5.841664 -5.848133 -5.841825 -5.829418  \n",
       "99909 -5.883518 -5.891264 -5.870203 -5.840877 -5.847350 -5.841037 -5.828618  \n",
       "99910 -5.884471 -5.892222 -5.871149 -5.841822 -5.848296 -5.841993 -5.829566  \n",
       "\n",
       "[99911 rows x 90 columns]"
      ]
     },
     "execution_count": 725,
     "metadata": {},
     "output_type": "execute_result"
    }
   ],
   "source": [
    "df = pd.DataFrame(array)\n",
    "df"
   ]
  },
  {
   "cell_type": "code",
   "execution_count": 726,
   "metadata": {},
   "outputs": [],
   "source": [
    "data29 = df[SIZE-1]\n",
    "data15 = df[int((SIZE/2)-1)]\n",
    "new_column = ((data29.index) * 1)+PREV_SIZE + SIZE\n",
    "new_column15 = ((data15.index) * 1)+PREV_SIZE + int(SIZE/2)"
   ]
  },
  {
   "cell_type": "code",
   "execution_count": 727,
   "metadata": {},
   "outputs": [],
   "source": [
    "dataf = pd.DataFrame({'Time': new_column,'Value': data29})\n",
    "dataf2 = pd.DataFrame({'Time': new_column15,'Value': data15})\n",
    "#dataf = dataf.set_index('Time')\n",
    "#dataf"
   ]
  },
  {
   "cell_type": "code",
   "execution_count": 728,
   "metadata": {},
   "outputs": [],
   "source": [
    "df2 = df2.drop(columns=['Outer Temp.','Initial Inner Temp.','Outer Ws'])"
   ]
  },
  {
   "cell_type": "code",
   "execution_count": 729,
   "metadata": {},
   "outputs": [
    {
     "data": {
      "text/html": [
       "<div>\n",
       "<style scoped>\n",
       "    .dataframe tbody tr th:only-of-type {\n",
       "        vertical-align: middle;\n",
       "    }\n",
       "\n",
       "    .dataframe tbody tr th {\n",
       "        vertical-align: top;\n",
       "    }\n",
       "\n",
       "    .dataframe thead th {\n",
       "        text-align: right;\n",
       "    }\n",
       "</style>\n",
       "<table border=\"1\" class=\"dataframe\">\n",
       "  <thead>\n",
       "    <tr style=\"text-align: right;\">\n",
       "      <th></th>\n",
       "      <th>Inner Temp.</th>\n",
       "    </tr>\n",
       "  </thead>\n",
       "  <tbody>\n",
       "    <tr>\n",
       "      <th>0</th>\n",
       "      <td>-10.643439</td>\n",
       "    </tr>\n",
       "    <tr>\n",
       "      <th>1</th>\n",
       "      <td>-10.643439</td>\n",
       "    </tr>\n",
       "    <tr>\n",
       "      <th>2</th>\n",
       "      <td>-10.643439</td>\n",
       "    </tr>\n",
       "    <tr>\n",
       "      <th>3</th>\n",
       "      <td>-10.643439</td>\n",
       "    </tr>\n",
       "    <tr>\n",
       "      <th>4</th>\n",
       "      <td>-10.643439</td>\n",
       "    </tr>\n",
       "    <tr>\n",
       "      <th>...</th>\n",
       "      <td>...</td>\n",
       "    </tr>\n",
       "    <tr>\n",
       "      <th>800083</th>\n",
       "      <td>-9.076564</td>\n",
       "    </tr>\n",
       "    <tr>\n",
       "      <th>800084</th>\n",
       "      <td>-9.018688</td>\n",
       "    </tr>\n",
       "    <tr>\n",
       "      <th>800085</th>\n",
       "      <td>-8.956657</td>\n",
       "    </tr>\n",
       "    <tr>\n",
       "      <th>800086</th>\n",
       "      <td>-8.909942</td>\n",
       "    </tr>\n",
       "    <tr>\n",
       "      <th>800087</th>\n",
       "      <td>-8.855430</td>\n",
       "    </tr>\n",
       "  </tbody>\n",
       "</table>\n",
       "<p>800088 rows × 1 columns</p>\n",
       "</div>"
      ],
      "text/plain": [
       "        Inner Temp.\n",
       "0        -10.643439\n",
       "1        -10.643439\n",
       "2        -10.643439\n",
       "3        -10.643439\n",
       "4        -10.643439\n",
       "...             ...\n",
       "800083    -9.076564\n",
       "800084    -9.018688\n",
       "800085    -8.956657\n",
       "800086    -8.909942\n",
       "800087    -8.855430\n",
       "\n",
       "[800088 rows x 1 columns]"
      ]
     },
     "execution_count": 729,
     "metadata": {},
     "output_type": "execute_result"
    }
   ],
   "source": [
    "df2"
   ]
  },
  {
   "cell_type": "code",
   "execution_count": 730,
   "metadata": {},
   "outputs": [],
   "source": [
    "dataf = dataf.set_index('Time')\n",
    "dataf2 = dataf2.set_index('Time')"
   ]
  },
  {
   "cell_type": "code",
   "execution_count": 731,
   "metadata": {},
   "outputs": [],
   "source": [
    "#plt.plot(dataf,'b')\n",
    "#plt.plot(dataf2,'g')\n",
    "#plt.plot(df2,'r')\n",
    "#plt.xlim(50,300)\n",
    "#plt.ylim(-1,1)"
   ]
  },
  {
   "cell_type": "code",
   "execution_count": 732,
   "metadata": {},
   "outputs": [],
   "source": [
    "#df2 = df2[SIZE + PREV_SIZE:SIZE + PREV_SIZE+100]"
   ]
  },
  {
   "cell_type": "code",
   "execution_count": 733,
   "metadata": {},
   "outputs": [
    {
     "data": {
      "text/html": [
       "<div>\n",
       "<style scoped>\n",
       "    .dataframe tbody tr th:only-of-type {\n",
       "        vertical-align: middle;\n",
       "    }\n",
       "\n",
       "    .dataframe tbody tr th {\n",
       "        vertical-align: top;\n",
       "    }\n",
       "\n",
       "    .dataframe thead th {\n",
       "        text-align: right;\n",
       "    }\n",
       "</style>\n",
       "<table border=\"1\" class=\"dataframe\">\n",
       "  <thead>\n",
       "    <tr style=\"text-align: right;\">\n",
       "      <th></th>\n",
       "      <th>Value</th>\n",
       "    </tr>\n",
       "    <tr>\n",
       "      <th>Time</th>\n",
       "      <th></th>\n",
       "    </tr>\n",
       "  </thead>\n",
       "  <tbody>\n",
       "    <tr>\n",
       "      <th>180</th>\n",
       "      <td>-5.701458</td>\n",
       "    </tr>\n",
       "    <tr>\n",
       "      <th>181</th>\n",
       "      <td>-5.701851</td>\n",
       "    </tr>\n",
       "    <tr>\n",
       "      <th>182</th>\n",
       "      <td>-5.702027</td>\n",
       "    </tr>\n",
       "    <tr>\n",
       "      <th>183</th>\n",
       "      <td>-5.701258</td>\n",
       "    </tr>\n",
       "    <tr>\n",
       "      <th>184</th>\n",
       "      <td>-5.701599</td>\n",
       "    </tr>\n",
       "    <tr>\n",
       "      <th>...</th>\n",
       "      <td>...</td>\n",
       "    </tr>\n",
       "    <tr>\n",
       "      <th>355</th>\n",
       "      <td>-5.701776</td>\n",
       "    </tr>\n",
       "    <tr>\n",
       "      <th>356</th>\n",
       "      <td>-5.702889</td>\n",
       "    </tr>\n",
       "    <tr>\n",
       "      <th>357</th>\n",
       "      <td>-5.702168</td>\n",
       "    </tr>\n",
       "    <tr>\n",
       "      <th>358</th>\n",
       "      <td>-5.701434</td>\n",
       "    </tr>\n",
       "    <tr>\n",
       "      <th>359</th>\n",
       "      <td>-5.702572</td>\n",
       "    </tr>\n",
       "  </tbody>\n",
       "</table>\n",
       "<p>180 rows × 1 columns</p>\n",
       "</div>"
      ],
      "text/plain": [
       "         Value\n",
       "Time          \n",
       "180  -5.701458\n",
       "181  -5.701851\n",
       "182  -5.702027\n",
       "183  -5.701258\n",
       "184  -5.701599\n",
       "...        ...\n",
       "355  -5.701776\n",
       "356  -5.702889\n",
       "357  -5.702168\n",
       "358  -5.701434\n",
       "359  -5.702572\n",
       "\n",
       "[180 rows x 1 columns]"
      ]
     },
     "execution_count": 733,
     "metadata": {},
     "output_type": "execute_result"
    }
   ],
   "source": [
    "dataf[:PREV_SIZE+SIZE]"
   ]
  },
  {
   "cell_type": "code",
   "execution_count": 734,
   "metadata": {},
   "outputs": [],
   "source": [
    "loss_array = tf.losses.MAE(df2['Inner Temp.'][SIZE + PREV_SIZE:SIZE + PREV_SIZE+100],dataf['Value'][:100]).numpy()\n",
    "loss_array_2 = tf.losses.MAE(df2['Inner Temp.'][SIZE + PREV_SIZE:SIZE + PREV_SIZE+100],dataf2['Value'][int(SIZE/2):int(100+SIZE/2)]).numpy()"
   ]
  },
  {
   "cell_type": "code",
   "execution_count": 735,
   "metadata": {},
   "outputs": [
    {
     "name": "stdout",
     "output_type": "stream",
     "text": [
      "4.941579 4.864306\n"
     ]
    }
   ],
   "source": [
    "print(np.average(loss_array), np.average(loss_array_2))"
   ]
  },
  {
   "cell_type": "code",
   "execution_count": 736,
   "metadata": {},
   "outputs": [],
   "source": [
    "predictions = df.iloc[SIZE]"
   ]
  },
  {
   "cell_type": "code",
   "execution_count": 737,
   "metadata": {},
   "outputs": [],
   "source": [
    "times = (predictions.index)+PREV_SIZE + SIZE\n",
    "predicted = pd.DataFrame({'Time':times,'Inner Temp.':predictions})\n",
    "predicted = predicted.set_index('Time')"
   ]
  },
  {
   "cell_type": "code",
   "execution_count": 738,
   "metadata": {},
   "outputs": [],
   "source": [
    "real = df2[SIZE+PREV_SIZE:2*SIZE+PREV_SIZE]"
   ]
  },
  {
   "cell_type": "code",
   "execution_count": 739,
   "metadata": {},
   "outputs": [
    {
     "data": {
      "text/plain": [
       "[<matplotlib.lines.Line2D at 0x207328b8760>]"
      ]
     },
     "execution_count": 739,
     "metadata": {},
     "output_type": "execute_result"
    },
    {
     "data": {
      "image/png": "[encoded data removed]",
      "text/plain": [
       "<Figure size 640x480 with 1 Axes>"
      ]
     },
     "metadata": {},
     "output_type": "display_data"
    }
   ],
   "source": [
    "plt.plot(real)\n",
    "plt.plot(predicted)"
   ]
  },
  {
   "cell_type": "code",
   "execution_count": 740,
   "metadata": {},
   "outputs": [
    {
     "data": {
      "text/plain": [
       "5.39439982530048"
      ]
     },
     "execution_count": 740,
     "metadata": {},
     "output_type": "execute_result"
    }
   ],
   "source": [
    "mae = np.absolute(np.subtract(real['Inner Temp.'], predicted['Inner Temp.'])).mean()\n",
    "mae"
   ]
  }
 ],
 "metadata": {
  "kernelspec": {
   "display_name": "Python 3",
   "language": "python",
   "name": "python3"
  },
  "language_info": {
   "codemirror_mode": {
    "name": "ipython",
    "version": 3
   },
   "file_extension": ".py",
   "mimetype": "text/x-python",
   "name": "python",
   "nbconvert_exporter": "python",
   "pygments_lexer": "ipython3",
   "version": "3.10.11"
  },
  "orig_nbformat": 4
 },
 "nbformat": 4,
 "nbformat_minor": 2
}
