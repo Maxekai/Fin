{
 "cells": [
  {
   "cell_type": "code",
   "execution_count": 138,
   "metadata": {},
   "outputs": [],
   "source": [
    "from numpy import concatenate\n",
    "from matplotlib import pyplot\n",
    "from pandas import read_csv\n",
    "from pandas import DataFrame\n",
    "from pandas import concat\n",
    "from sklearn.preprocessing import MinMaxScaler\n",
    "from sklearn.preprocessing import LabelEncoder\n",
    "from sklearn.metrics import mean_squared_error\n",
    "from keras.models import Sequential\n",
    "from keras.layers import Dense\n",
    "from keras.layers import LSTM\n",
    "import numpy as np\n",
    "import tensorflow as tf\n",
    "import keras\n",
    "import matplotlib.pyplot as plt\n",
    "import pandas as pd\n",
    "import sys"
   ]
  },
  {
   "cell_type": "code",
   "execution_count": 139,
   "metadata": {},
   "outputs": [],
   "source": [
    "CHOSEN = 1"
   ]
  },
  {
   "cell_type": "code",
   "execution_count": 140,
   "metadata": {},
   "outputs": [],
   "source": [
    "new_model = tf.keras.models.load_model('./Models/m90_n90_s150_i100_l1600k/my_model')"
   ]
  },
  {
   "cell_type": "code",
   "execution_count": 141,
   "metadata": {},
   "outputs": [],
   "source": [
    "train_mean = pd.Series({'Outer Temp.':24.985298,'Initial Inner Temp.':69.970662,'Outer Ws':9.854125,'Inner Temp.':55.485196})\n",
    "train_std = pd.Series({'Outer Temp.':2.868629,'Initial Inner Temp.':5.775671,'Outer Ws':5.751491,'Inner Temp.':5.213089})\n"
   ]
  },
  {
   "cell_type": "code",
   "execution_count": 142,
   "metadata": {},
   "outputs": [
    {
     "name": "stdout",
     "output_type": "stream",
     "text": [
      "Num GPUs Available:  1\n"
     ]
    }
   ],
   "source": [
    "print(\"Num GPUs Available: \", len(tf.config.list_physical_devices('GPU')))"
   ]
  },
  {
   "cell_type": "code",
   "execution_count": 143,
   "metadata": {},
   "outputs": [
    {
     "data": {
      "text/plain": [
       "True"
      ]
     },
     "execution_count": 143,
     "metadata": {},
     "output_type": "execute_result"
    }
   ],
   "source": [
    "tf.test.is_built_with_gpu_support()"
   ]
  },
  {
   "cell_type": "code",
   "execution_count": 144,
   "metadata": {},
   "outputs": [],
   "source": [
    "PREV_SIZE = 90\n",
    "SIZE = 90"
   ]
  },
  {
   "cell_type": "code",
   "execution_count": 145,
   "metadata": {},
   "outputs": [],
   "source": [
    "class WindowGenerator():\n",
    "  def __init__(self, input_width, label_width, shift,\n",
    "               train_df, val_df, test_df,\n",
    "               label_columns=None):\n",
    "    # Store the raw data.\n",
    "    self.train_df = train_df\n",
    "    self.val_df = val_df\n",
    "    self.test_df = test_df\n",
    "\n",
    "    # Work out the label column indices.\n",
    "    self.label_columns = label_columns\n",
    "    if label_columns is not None:\n",
    "      self.label_columns_indices = {name: i for i, name in\n",
    "                                    enumerate(label_columns)}\n",
    "    self.column_indices = {name: i for i, name in\n",
    "                           enumerate(train_df.columns)}\n",
    "\n",
    "    # Work out the window parameters.\n",
    "    self.input_width = input_width\n",
    "    self.label_width = label_width\n",
    "    self.shift = shift\n",
    "\n",
    "    self.total_window_size = input_width + shift\n",
    "\n",
    "    self.input_slice = slice(0, input_width)\n",
    "    self.input_indices = np.arange(self.total_window_size)[self.input_slice]\n",
    "\n",
    "    self.label_start = self.total_window_size - self.label_width\n",
    "    self.labels_slice = slice(self.label_start, None)\n",
    "    self.label_indices = np.arange(self.total_window_size)[self.labels_slice]\n",
    "\n",
    "  def __repr__(self):\n",
    "    return '\\n'.join([\n",
    "        f'Total window size: {self.total_window_size}',\n",
    "        f'Input indices: {self.input_indices}',\n",
    "        f'Label indices: {self.label_indices}',\n",
    "        f'Label column name(s): {self.label_columns}'])"
   ]
  },
  {
   "cell_type": "code",
   "execution_count": 146,
   "metadata": {},
   "outputs": [],
   "source": [
    "def split_window(self, features):\n",
    "  inputs = features[:, self.input_slice, :]\n",
    "  labels = features[:, self.labels_slice, :]\n",
    "  if self.label_columns is not None:\n",
    "    labels = tf.stack(\n",
    "        [labels[:, :, self.column_indices[name]] for name in self.label_columns],\n",
    "        axis=-1)\n",
    "\n",
    "  # Slicing doesn't preserve static shape information, so set the shapes\n",
    "  # manually. This way the `tf.data.Datasets` are easier to inspect.\n",
    "  inputs.set_shape([None, self.input_width, None])\n",
    "  labels.set_shape([None, self.label_width, None])\n",
    "\n",
    "  return inputs, labels\n",
    "\n",
    "WindowGenerator.split_window = split_window"
   ]
  },
  {
   "cell_type": "code",
   "execution_count": 147,
   "metadata": {},
   "outputs": [],
   "source": [
    "def make_dataset(self, data):\n",
    "  data = np.array(data, dtype=np.float32)\n",
    "  ds = tf.keras.utils.timeseries_dataset_from_array(\n",
    "      data=data,\n",
    "      targets=None,\n",
    "      sequence_length=self.total_window_size,\n",
    "      sequence_stride=1,\n",
    "      shuffle=True,\n",
    "      batch_size=32,)\n",
    "\n",
    "  ds = ds.map(self.split_window)\n",
    "\n",
    "  return ds\n",
    "\n",
    "WindowGenerator.make_dataset = make_dataset"
   ]
  },
  {
   "cell_type": "code",
   "execution_count": 148,
   "metadata": {},
   "outputs": [],
   "source": [
    "@property\n",
    "def train(self):\n",
    "  return self.make_dataset(self.train_df)\n",
    "\n",
    "@property\n",
    "def val(self):\n",
    "  return self.make_dataset(self.val_df)\n",
    "\n",
    "@property\n",
    "def test(self):\n",
    "  return self.make_dataset(self.test_df)\n",
    "\n",
    "@property\n",
    "def example(self):\n",
    "  \"\"\"Get and cache an example batch of `inputs, labels` for plotting.\"\"\"\n",
    "  result = self.test\n",
    "  self._example = result\n",
    "  return result\n",
    "\n",
    "WindowGenerator.train = train\n",
    "WindowGenerator.val = val\n",
    "WindowGenerator.test = test\n",
    "WindowGenerator.example = example"
   ]
  },
  {
   "cell_type": "code",
   "execution_count": 149,
   "metadata": {},
   "outputs": [],
   "source": [
    "def split_window(self, features):\n",
    "  inputs = features[:, self.input_slice, :]\n",
    "  labels = features[:, self.labels_slice, :]\n",
    "  if self.label_columns is not None:\n",
    "    labels = tf.stack(\n",
    "        [labels[:, :, self.column_indices[name]] for name in self.label_columns],\n",
    "        axis=-1)\n",
    "\n",
    "  # Slicing doesn't preserve static shape information, so set the shapes\n",
    "  # manually. This way the `tf.data.Datasets` are easier to inspect.\n",
    "  inputs.set_shape([None, self.input_width, None])\n",
    "  labels.set_shape([None, self.label_width, None])\n",
    "\n",
    "  return inputs, labels\n",
    "\n",
    "WindowGenerator.split_window = split_window"
   ]
  },
  {
   "cell_type": "code",
   "execution_count": 150,
   "metadata": {},
   "outputs": [],
   "source": [
    "#HERE"
   ]
  },
  {
   "cell_type": "code",
   "execution_count": 151,
   "metadata": {},
   "outputs": [],
   "source": [
    "#new_model = tf.keras.models.load_model('m60_n90_s64_i100_l00k/my_model')\n",
    "#new_model = tf.keras.models.load_model('double_model_no_random/my_model')\n",
    "#new_model = tf.keras.models.load_model('model_60_24_con_sep100_800k_90_mae_2/my_model_noreg')"
   ]
  },
  {
   "cell_type": "code",
   "execution_count": 152,
   "metadata": {},
   "outputs": [],
   "source": [
    "#TEST 1* : 'training_cases_twov_90_escalon_t_int_2.csv'\n",
    "#TEST 1 'training_cases_twov_90_text_w16.csv'\n",
    "#TEST 2: 'training_cases_twov_90_text_w5.csv'"
   ]
  },
  {
   "cell_type": "code",
   "execution_count": 153,
   "metadata": {},
   "outputs": [],
   "source": [
    "#df2 = pd.read_csv('training_cases_twov_90_escalon_t_int_2.csv',header=0, index_col=0, sep = ';')\n",
    "#df2 = pd.read_csv('training_cases_twov_90_text_w16.csv',header=0, index_col=0, sep = ';')\n",
    "#df2 = pd.read_csv('training_cases_twov_90_text_w5.csv',header=0, index_col=0, sep = ';')\n",
    "#df2 = pd.read_csv('training_cases_twov_90_escalon_t_int_4_ctr-10_1.csv',header=0, index_col=0, sep = ';')\n"
   ]
  },
  {
   "cell_type": "code",
   "execution_count": null,
   "metadata": {},
   "outputs": [],
   "source": [
    "\n"
   ]
  },
  {
   "cell_type": "code",
   "execution_count": 154,
   "metadata": {},
   "outputs": [],
   "source": [
    "df_list = []"
   ]
  },
  {
   "cell_type": "code",
   "execution_count": 155,
   "metadata": {},
   "outputs": [],
   "source": [
    "\n",
    "df_list.append(pd.read_csv('./Simulations/simulated_data_sep_var_150_800k_novdesv.csv',header=0, index_col=0, sep = ';'))\n",
    "df_list.append(pd.read_csv('./Simulations/simulated_data_sep_var_150_800k_novdesv_2.csv',header=0, index_col=0, sep = ';'))"
   ]
  },
  {
   "cell_type": "code",
   "execution_count": 156,
   "metadata": {},
   "outputs": [],
   "source": [
    "chosen_df = CHOSEN -1\n",
    "df2 = df_list[chosen_df]"
   ]
  },
  {
   "cell_type": "code",
   "execution_count": 157,
   "metadata": {},
   "outputs": [],
   "source": [
    "#zeros_df = pd.DataFrame(0, index=range(SIZE), columns=df2.columns)\n",
    "zeros_df = pd.DataFrame(0, index=range(SIZE-2), columns=df2.columns)\n",
    "df2 = pd.concat([zeros_df,df2],ignore_index=True)"
   ]
  },
  {
   "cell_type": "code",
   "execution_count": 158,
   "metadata": {},
   "outputs": [],
   "source": [
    "df2['Outer Temp.'] = (df2['Outer Temp.'] - train_mean['Outer Temp.']) / train_std['Outer Temp.']\n",
    "df2['Outer Ws'] = (df2['Outer Ws'] - train_mean['Outer Ws']) / train_std['Outer Ws']\n",
    "df2['Initial Inner Temp.'] = (df2['Initial Inner Temp.'] - train_mean['Initial Inner Temp.']) / train_std['Initial Inner Temp.']\n",
    "df2['Inner Temp.'] = (df2['Inner Temp.'] - train_mean['Inner Temp.']) / train_std['Inner Temp.']\n"
   ]
  },
  {
   "cell_type": "code",
   "execution_count": 159,
   "metadata": {},
   "outputs": [],
   "source": [
    "dataset = df2[0:200000]"
   ]
  },
  {
   "cell_type": "code",
   "execution_count": 160,
   "metadata": {},
   "outputs": [
    {
     "data": {
      "text/plain": [
       "<BatchDataset element_spec=TensorSpec(shape=(None, None, 4), dtype=tf.float32, name=None)>"
      ]
     },
     "execution_count": 160,
     "metadata": {},
     "output_type": "execute_result"
    }
   ],
   "source": [
    "def make_dataset(data):\n",
    "  data = np.array(data, dtype=np.float32)\n",
    "  ds = tf.keras.utils.timeseries_dataset_from_array(\n",
    "      data=data,\n",
    "      targets=None,\n",
    "      sequence_length=PREV_SIZE,\n",
    "      sequence_stride=1,\n",
    "      shuffle=False,\n",
    "      batch_size=1000)\n",
    "\n",
    "  return ds\n",
    "\n",
    "ds = make_dataset(dataset)\n",
    "\n",
    "ds"
   ]
  },
  {
   "cell_type": "code",
   "execution_count": 161,
   "metadata": {},
   "outputs": [
    {
     "name": "stdout",
     "output_type": "stream",
     "text": [
      "200/200 [==============================] - 3s 11ms/step\n"
     ]
    }
   ],
   "source": [
    "array = new_model.predict(ds)\n",
    "array = array [:,:,0]"
   ]
  },
  {
   "cell_type": "code",
   "execution_count": 162,
   "metadata": {},
   "outputs": [
    {
     "data": {
      "text/html": [
       "<div>\n",
       "<style scoped>\n",
       "    .dataframe tbody tr th:only-of-type {\n",
       "        vertical-align: middle;\n",
       "    }\n",
       "\n",
       "    .dataframe tbody tr th {\n",
       "        vertical-align: top;\n",
       "    }\n",
       "\n",
       "    .dataframe thead th {\n",
       "        text-align: right;\n",
       "    }\n",
       "</style>\n",
       "<table border=\"1\" class=\"dataframe\">\n",
       "  <thead>\n",
       "    <tr style=\"text-align: right;\">\n",
       "      <th></th>\n",
       "      <th>0</th>\n",
       "      <th>1</th>\n",
       "      <th>2</th>\n",
       "      <th>3</th>\n",
       "      <th>4</th>\n",
       "      <th>5</th>\n",
       "      <th>6</th>\n",
       "      <th>7</th>\n",
       "      <th>8</th>\n",
       "      <th>9</th>\n",
       "      <th>...</th>\n",
       "      <th>80</th>\n",
       "      <th>81</th>\n",
       "      <th>82</th>\n",
       "      <th>83</th>\n",
       "      <th>84</th>\n",
       "      <th>85</th>\n",
       "      <th>86</th>\n",
       "      <th>87</th>\n",
       "      <th>88</th>\n",
       "      <th>89</th>\n",
       "    </tr>\n",
       "  </thead>\n",
       "  <tbody>\n",
       "    <tr>\n",
       "      <th>0</th>\n",
       "      <td>-2.624168</td>\n",
       "      <td>-2.511954</td>\n",
       "      <td>-2.403948</td>\n",
       "      <td>-2.308000</td>\n",
       "      <td>-2.231571</td>\n",
       "      <td>-2.165093</td>\n",
       "      <td>-2.117547</td>\n",
       "      <td>-2.095109</td>\n",
       "      <td>-2.081761</td>\n",
       "      <td>-2.086847</td>\n",
       "      <td>...</td>\n",
       "      <td>-0.709675</td>\n",
       "      <td>-0.715486</td>\n",
       "      <td>-0.722836</td>\n",
       "      <td>-0.705271</td>\n",
       "      <td>-0.717395</td>\n",
       "      <td>-0.698477</td>\n",
       "      <td>-0.690632</td>\n",
       "      <td>-0.701096</td>\n",
       "      <td>-0.690672</td>\n",
       "      <td>-0.686543</td>\n",
       "    </tr>\n",
       "    <tr>\n",
       "      <th>1</th>\n",
       "      <td>-1.900599</td>\n",
       "      <td>-1.737942</td>\n",
       "      <td>-1.583404</td>\n",
       "      <td>-1.457225</td>\n",
       "      <td>-1.359332</td>\n",
       "      <td>-1.277851</td>\n",
       "      <td>-1.224114</td>\n",
       "      <td>-1.200964</td>\n",
       "      <td>-1.192307</td>\n",
       "      <td>-1.206451</td>\n",
       "      <td>...</td>\n",
       "      <td>-0.637000</td>\n",
       "      <td>-0.646395</td>\n",
       "      <td>-0.649772</td>\n",
       "      <td>-0.636268</td>\n",
       "      <td>-0.649407</td>\n",
       "      <td>-0.628984</td>\n",
       "      <td>-0.623241</td>\n",
       "      <td>-0.632380</td>\n",
       "      <td>-0.619171</td>\n",
       "      <td>-0.613637</td>\n",
       "    </tr>\n",
       "    <tr>\n",
       "      <th>2</th>\n",
       "      <td>-1.332289</td>\n",
       "      <td>-1.166522</td>\n",
       "      <td>-1.008938</td>\n",
       "      <td>-0.890278</td>\n",
       "      <td>-0.804060</td>\n",
       "      <td>-0.733270</td>\n",
       "      <td>-0.694567</td>\n",
       "      <td>-0.682130</td>\n",
       "      <td>-0.684839</td>\n",
       "      <td>-0.710295</td>\n",
       "      <td>...</td>\n",
       "      <td>-0.612889</td>\n",
       "      <td>-0.622108</td>\n",
       "      <td>-0.622174</td>\n",
       "      <td>-0.612368</td>\n",
       "      <td>-0.624093</td>\n",
       "      <td>-0.604710</td>\n",
       "      <td>-0.600514</td>\n",
       "      <td>-0.607066</td>\n",
       "      <td>-0.593736</td>\n",
       "      <td>-0.586606</td>\n",
       "    </tr>\n",
       "    <tr>\n",
       "      <th>3</th>\n",
       "      <td>-1.057530</td>\n",
       "      <td>-0.903420</td>\n",
       "      <td>-0.756952</td>\n",
       "      <td>-0.654224</td>\n",
       "      <td>-0.584492</td>\n",
       "      <td>-0.528351</td>\n",
       "      <td>-0.505794</td>\n",
       "      <td>-0.505119</td>\n",
       "      <td>-0.519046</td>\n",
       "      <td>-0.553945</td>\n",
       "      <td>...</td>\n",
       "      <td>-0.558704</td>\n",
       "      <td>-0.569174</td>\n",
       "      <td>-0.568070</td>\n",
       "      <td>-0.562622</td>\n",
       "      <td>-0.573859</td>\n",
       "      <td>-0.558100</td>\n",
       "      <td>-0.556058</td>\n",
       "      <td>-0.561105</td>\n",
       "      <td>-0.551004</td>\n",
       "      <td>-0.545195</td>\n",
       "    </tr>\n",
       "    <tr>\n",
       "      <th>4</th>\n",
       "      <td>-0.883476</td>\n",
       "      <td>-0.751032</td>\n",
       "      <td>-0.625833</td>\n",
       "      <td>-0.543549</td>\n",
       "      <td>-0.491707</td>\n",
       "      <td>-0.450064</td>\n",
       "      <td>-0.440811</td>\n",
       "      <td>-0.449071</td>\n",
       "      <td>-0.470427</td>\n",
       "      <td>-0.510723</td>\n",
       "      <td>...</td>\n",
       "      <td>-0.490698</td>\n",
       "      <td>-0.502444</td>\n",
       "      <td>-0.501648</td>\n",
       "      <td>-0.501088</td>\n",
       "      <td>-0.512827</td>\n",
       "      <td>-0.501499</td>\n",
       "      <td>-0.501732</td>\n",
       "      <td>-0.506855</td>\n",
       "      <td>-0.501349</td>\n",
       "      <td>-0.498517</td>\n",
       "    </tr>\n",
       "    <tr>\n",
       "      <th>...</th>\n",
       "      <td>...</td>\n",
       "      <td>...</td>\n",
       "      <td>...</td>\n",
       "      <td>...</td>\n",
       "      <td>...</td>\n",
       "      <td>...</td>\n",
       "      <td>...</td>\n",
       "      <td>...</td>\n",
       "      <td>...</td>\n",
       "      <td>...</td>\n",
       "      <td>...</td>\n",
       "      <td>...</td>\n",
       "      <td>...</td>\n",
       "      <td>...</td>\n",
       "      <td>...</td>\n",
       "      <td>...</td>\n",
       "      <td>...</td>\n",
       "      <td>...</td>\n",
       "      <td>...</td>\n",
       "      <td>...</td>\n",
       "      <td>...</td>\n",
       "    </tr>\n",
       "    <tr>\n",
       "      <th>199906</th>\n",
       "      <td>-0.988562</td>\n",
       "      <td>-0.986976</td>\n",
       "      <td>-0.988371</td>\n",
       "      <td>-0.985047</td>\n",
       "      <td>-0.986969</td>\n",
       "      <td>-0.985505</td>\n",
       "      <td>-0.984167</td>\n",
       "      <td>-0.983697</td>\n",
       "      <td>-0.983229</td>\n",
       "      <td>-0.983349</td>\n",
       "      <td>...</td>\n",
       "      <td>-0.986911</td>\n",
       "      <td>-0.986298</td>\n",
       "      <td>-0.986252</td>\n",
       "      <td>-0.986079</td>\n",
       "      <td>-0.989398</td>\n",
       "      <td>-0.986959</td>\n",
       "      <td>-0.986236</td>\n",
       "      <td>-0.986223</td>\n",
       "      <td>-0.985985</td>\n",
       "      <td>-0.986042</td>\n",
       "    </tr>\n",
       "    <tr>\n",
       "      <th>199907</th>\n",
       "      <td>-0.990888</td>\n",
       "      <td>-0.989353</td>\n",
       "      <td>-0.990794</td>\n",
       "      <td>-0.987513</td>\n",
       "      <td>-0.989484</td>\n",
       "      <td>-0.988053</td>\n",
       "      <td>-0.986745</td>\n",
       "      <td>-0.986273</td>\n",
       "      <td>-0.985805</td>\n",
       "      <td>-0.985907</td>\n",
       "      <td>...</td>\n",
       "      <td>-0.985660</td>\n",
       "      <td>-0.985036</td>\n",
       "      <td>-0.984976</td>\n",
       "      <td>-0.984785</td>\n",
       "      <td>-0.988076</td>\n",
       "      <td>-0.985618</td>\n",
       "      <td>-0.984875</td>\n",
       "      <td>-0.984853</td>\n",
       "      <td>-0.984602</td>\n",
       "      <td>-0.984657</td>\n",
       "    </tr>\n",
       "    <tr>\n",
       "      <th>199908</th>\n",
       "      <td>-0.988556</td>\n",
       "      <td>-0.986925</td>\n",
       "      <td>-0.988281</td>\n",
       "      <td>-0.984946</td>\n",
       "      <td>-0.986857</td>\n",
       "      <td>-0.985380</td>\n",
       "      <td>-0.984032</td>\n",
       "      <td>-0.983545</td>\n",
       "      <td>-0.983056</td>\n",
       "      <td>-0.983143</td>\n",
       "      <td>...</td>\n",
       "      <td>-0.982688</td>\n",
       "      <td>-0.982060</td>\n",
       "      <td>-0.981990</td>\n",
       "      <td>-0.981795</td>\n",
       "      <td>-0.985085</td>\n",
       "      <td>-0.982623</td>\n",
       "      <td>-0.981887</td>\n",
       "      <td>-0.981856</td>\n",
       "      <td>-0.981603</td>\n",
       "      <td>-0.981646</td>\n",
       "    </tr>\n",
       "    <tr>\n",
       "      <th>199909</th>\n",
       "      <td>-0.987188</td>\n",
       "      <td>-0.985531</td>\n",
       "      <td>-0.986854</td>\n",
       "      <td>-0.983499</td>\n",
       "      <td>-0.985391</td>\n",
       "      <td>-0.983904</td>\n",
       "      <td>-0.982547</td>\n",
       "      <td>-0.982063</td>\n",
       "      <td>-0.981583</td>\n",
       "      <td>-0.981676</td>\n",
       "      <td>...</td>\n",
       "      <td>-0.982798</td>\n",
       "      <td>-0.982161</td>\n",
       "      <td>-0.982088</td>\n",
       "      <td>-0.981883</td>\n",
       "      <td>-0.985182</td>\n",
       "      <td>-0.982715</td>\n",
       "      <td>-0.981978</td>\n",
       "      <td>-0.981940</td>\n",
       "      <td>-0.981687</td>\n",
       "      <td>-0.981728</td>\n",
       "    </tr>\n",
       "    <tr>\n",
       "      <th>199910</th>\n",
       "      <td>-0.988343</td>\n",
       "      <td>-0.986762</td>\n",
       "      <td>-0.988153</td>\n",
       "      <td>-0.984831</td>\n",
       "      <td>-0.986756</td>\n",
       "      <td>-0.985284</td>\n",
       "      <td>-0.983935</td>\n",
       "      <td>-0.983448</td>\n",
       "      <td>-0.982962</td>\n",
       "      <td>-0.983051</td>\n",
       "      <td>...</td>\n",
       "      <td>-0.985310</td>\n",
       "      <td>-0.984679</td>\n",
       "      <td>-0.984617</td>\n",
       "      <td>-0.984417</td>\n",
       "      <td>-0.987721</td>\n",
       "      <td>-0.985255</td>\n",
       "      <td>-0.984514</td>\n",
       "      <td>-0.984483</td>\n",
       "      <td>-0.984228</td>\n",
       "      <td>-0.984273</td>\n",
       "    </tr>\n",
       "  </tbody>\n",
       "</table>\n",
       "<p>199911 rows × 90 columns</p>\n",
       "</div>"
      ],
      "text/plain": [
       "              0         1         2         3         4         5         6    \n",
       "0      -2.624168 -2.511954 -2.403948 -2.308000 -2.231571 -2.165093 -2.117547  \\\n",
       "1      -1.900599 -1.737942 -1.583404 -1.457225 -1.359332 -1.277851 -1.224114   \n",
       "2      -1.332289 -1.166522 -1.008938 -0.890278 -0.804060 -0.733270 -0.694567   \n",
       "3      -1.057530 -0.903420 -0.756952 -0.654224 -0.584492 -0.528351 -0.505794   \n",
       "4      -0.883476 -0.751032 -0.625833 -0.543549 -0.491707 -0.450064 -0.440811   \n",
       "...          ...       ...       ...       ...       ...       ...       ...   \n",
       "199906 -0.988562 -0.986976 -0.988371 -0.985047 -0.986969 -0.985505 -0.984167   \n",
       "199907 -0.990888 -0.989353 -0.990794 -0.987513 -0.989484 -0.988053 -0.986745   \n",
       "199908 -0.988556 -0.986925 -0.988281 -0.984946 -0.986857 -0.985380 -0.984032   \n",
       "199909 -0.987188 -0.985531 -0.986854 -0.983499 -0.985391 -0.983904 -0.982547   \n",
       "199910 -0.988343 -0.986762 -0.988153 -0.984831 -0.986756 -0.985284 -0.983935   \n",
       "\n",
       "              7         8         9   ...        80        81        82   \n",
       "0      -2.095109 -2.081761 -2.086847  ... -0.709675 -0.715486 -0.722836  \\\n",
       "1      -1.200964 -1.192307 -1.206451  ... -0.637000 -0.646395 -0.649772   \n",
       "2      -0.682130 -0.684839 -0.710295  ... -0.612889 -0.622108 -0.622174   \n",
       "3      -0.505119 -0.519046 -0.553945  ... -0.558704 -0.569174 -0.568070   \n",
       "4      -0.449071 -0.470427 -0.510723  ... -0.490698 -0.502444 -0.501648   \n",
       "...          ...       ...       ...  ...       ...       ...       ...   \n",
       "199906 -0.983697 -0.983229 -0.983349  ... -0.986911 -0.986298 -0.986252   \n",
       "199907 -0.986273 -0.985805 -0.985907  ... -0.985660 -0.985036 -0.984976   \n",
       "199908 -0.983545 -0.983056 -0.983143  ... -0.982688 -0.982060 -0.981990   \n",
       "199909 -0.982063 -0.981583 -0.981676  ... -0.982798 -0.982161 -0.982088   \n",
       "199910 -0.983448 -0.982962 -0.983051  ... -0.985310 -0.984679 -0.984617   \n",
       "\n",
       "              83        84        85        86        87        88        89  \n",
       "0      -0.705271 -0.717395 -0.698477 -0.690632 -0.701096 -0.690672 -0.686543  \n",
       "1      -0.636268 -0.649407 -0.628984 -0.623241 -0.632380 -0.619171 -0.613637  \n",
       "2      -0.612368 -0.624093 -0.604710 -0.600514 -0.607066 -0.593736 -0.586606  \n",
       "3      -0.562622 -0.573859 -0.558100 -0.556058 -0.561105 -0.551004 -0.545195  \n",
       "4      -0.501088 -0.512827 -0.501499 -0.501732 -0.506855 -0.501349 -0.498517  \n",
       "...          ...       ...       ...       ...       ...       ...       ...  \n",
       "199906 -0.986079 -0.989398 -0.986959 -0.986236 -0.986223 -0.985985 -0.986042  \n",
       "199907 -0.984785 -0.988076 -0.985618 -0.984875 -0.984853 -0.984602 -0.984657  \n",
       "199908 -0.981795 -0.985085 -0.982623 -0.981887 -0.981856 -0.981603 -0.981646  \n",
       "199909 -0.981883 -0.985182 -0.982715 -0.981978 -0.981940 -0.981687 -0.981728  \n",
       "199910 -0.984417 -0.987721 -0.985255 -0.984514 -0.984483 -0.984228 -0.984273  \n",
       "\n",
       "[199911 rows x 90 columns]"
      ]
     },
     "execution_count": 162,
     "metadata": {},
     "output_type": "execute_result"
    }
   ],
   "source": [
    "df = pd.DataFrame(array)\n",
    "df"
   ]
  },
  {
   "cell_type": "code",
   "execution_count": 163,
   "metadata": {},
   "outputs": [],
   "source": [
    "data29 = df[SIZE-1]\n",
    "data15 = df[int((SIZE/2)-1)]\n",
    "new_column = ((data29.index) * 1)+PREV_SIZE + SIZE\n",
    "new_column15 = ((data15.index) * 1)+PREV_SIZE + int(SIZE/2)"
   ]
  },
  {
   "cell_type": "code",
   "execution_count": 164,
   "metadata": {},
   "outputs": [],
   "source": [
    "dataf = pd.DataFrame({'Time': new_column,'Value': data29})\n",
    "dataf2 = pd.DataFrame({'Time': new_column15,'Value': data15})\n",
    "#dataf = dataf.set_index('Time')\n",
    "#dataf"
   ]
  },
  {
   "cell_type": "code",
   "execution_count": 165,
   "metadata": {},
   "outputs": [],
   "source": [
    "df2 = df2.drop(columns=['Outer Temp.','Initial Inner Temp.','Outer Ws'])"
   ]
  },
  {
   "cell_type": "code",
   "execution_count": 166,
   "metadata": {},
   "outputs": [
    {
     "data": {
      "text/html": [
       "<div>\n",
       "<style scoped>\n",
       "    .dataframe tbody tr th:only-of-type {\n",
       "        vertical-align: middle;\n",
       "    }\n",
       "\n",
       "    .dataframe tbody tr th {\n",
       "        vertical-align: top;\n",
       "    }\n",
       "\n",
       "    .dataframe thead th {\n",
       "        text-align: right;\n",
       "    }\n",
       "</style>\n",
       "<table border=\"1\" class=\"dataframe\">\n",
       "  <thead>\n",
       "    <tr style=\"text-align: right;\">\n",
       "      <th></th>\n",
       "      <th>Inner Temp.</th>\n",
       "    </tr>\n",
       "  </thead>\n",
       "  <tbody>\n",
       "    <tr>\n",
       "      <th>0</th>\n",
       "      <td>-10.643439</td>\n",
       "    </tr>\n",
       "    <tr>\n",
       "      <th>1</th>\n",
       "      <td>-10.643439</td>\n",
       "    </tr>\n",
       "    <tr>\n",
       "      <th>2</th>\n",
       "      <td>-10.643439</td>\n",
       "    </tr>\n",
       "    <tr>\n",
       "      <th>3</th>\n",
       "      <td>-10.643439</td>\n",
       "    </tr>\n",
       "    <tr>\n",
       "      <th>4</th>\n",
       "      <td>-10.643439</td>\n",
       "    </tr>\n",
       "    <tr>\n",
       "      <th>...</th>\n",
       "      <td>...</td>\n",
       "    </tr>\n",
       "    <tr>\n",
       "      <th>800083</th>\n",
       "      <td>-0.888132</td>\n",
       "    </tr>\n",
       "    <tr>\n",
       "      <th>800084</th>\n",
       "      <td>-0.893069</td>\n",
       "    </tr>\n",
       "    <tr>\n",
       "      <th>800085</th>\n",
       "      <td>-0.892737</td>\n",
       "    </tr>\n",
       "    <tr>\n",
       "      <th>800086</th>\n",
       "      <td>-0.887961</td>\n",
       "    </tr>\n",
       "    <tr>\n",
       "      <th>800087</th>\n",
       "      <td>-0.893160</td>\n",
       "    </tr>\n",
       "  </tbody>\n",
       "</table>\n",
       "<p>800088 rows × 1 columns</p>\n",
       "</div>"
      ],
      "text/plain": [
       "        Inner Temp.\n",
       "0        -10.643439\n",
       "1        -10.643439\n",
       "2        -10.643439\n",
       "3        -10.643439\n",
       "4        -10.643439\n",
       "...             ...\n",
       "800083    -0.888132\n",
       "800084    -0.893069\n",
       "800085    -0.892737\n",
       "800086    -0.887961\n",
       "800087    -0.893160\n",
       "\n",
       "[800088 rows x 1 columns]"
      ]
     },
     "execution_count": 166,
     "metadata": {},
     "output_type": "execute_result"
    }
   ],
   "source": [
    "df2"
   ]
  },
  {
   "cell_type": "code",
   "execution_count": 167,
   "metadata": {},
   "outputs": [],
   "source": [
    "dataf = dataf.set_index('Time')\n",
    "dataf2 = dataf2.set_index('Time')"
   ]
  },
  {
   "cell_type": "code",
   "execution_count": 168,
   "metadata": {},
   "outputs": [],
   "source": [
    "#plt.plot(dataf,'b')\n",
    "#plt.plot(dataf2,'g')\n",
    "#plt.plot(df2,'r')\n",
    "#plt.xlim(50,300)\n",
    "#plt.ylim(-1,1)"
   ]
  },
  {
   "cell_type": "code",
   "execution_count": 169,
   "metadata": {},
   "outputs": [],
   "source": [
    "#df2 = df2[SIZE + PREV_SIZE:SIZE + PREV_SIZE+100]"
   ]
  },
  {
   "cell_type": "code",
   "execution_count": 170,
   "metadata": {},
   "outputs": [
    {
     "data": {
      "text/html": [
       "<div>\n",
       "<style scoped>\n",
       "    .dataframe tbody tr th:only-of-type {\n",
       "        vertical-align: middle;\n",
       "    }\n",
       "\n",
       "    .dataframe tbody tr th {\n",
       "        vertical-align: top;\n",
       "    }\n",
       "\n",
       "    .dataframe thead th {\n",
       "        text-align: right;\n",
       "    }\n",
       "</style>\n",
       "<table border=\"1\" class=\"dataframe\">\n",
       "  <thead>\n",
       "    <tr style=\"text-align: right;\">\n",
       "      <th></th>\n",
       "      <th>Value</th>\n",
       "    </tr>\n",
       "    <tr>\n",
       "      <th>Time</th>\n",
       "      <th></th>\n",
       "    </tr>\n",
       "  </thead>\n",
       "  <tbody>\n",
       "    <tr>\n",
       "      <th>180</th>\n",
       "      <td>-0.686543</td>\n",
       "    </tr>\n",
       "    <tr>\n",
       "      <th>181</th>\n",
       "      <td>-0.613637</td>\n",
       "    </tr>\n",
       "    <tr>\n",
       "      <th>182</th>\n",
       "      <td>-0.586606</td>\n",
       "    </tr>\n",
       "    <tr>\n",
       "      <th>183</th>\n",
       "      <td>-0.545195</td>\n",
       "    </tr>\n",
       "    <tr>\n",
       "      <th>184</th>\n",
       "      <td>-0.498517</td>\n",
       "    </tr>\n",
       "    <tr>\n",
       "      <th>...</th>\n",
       "      <td>...</td>\n",
       "    </tr>\n",
       "    <tr>\n",
       "      <th>355</th>\n",
       "      <td>-0.246074</td>\n",
       "    </tr>\n",
       "    <tr>\n",
       "      <th>356</th>\n",
       "      <td>-0.246784</td>\n",
       "    </tr>\n",
       "    <tr>\n",
       "      <th>357</th>\n",
       "      <td>-0.248150</td>\n",
       "    </tr>\n",
       "    <tr>\n",
       "      <th>358</th>\n",
       "      <td>-0.246841</td>\n",
       "    </tr>\n",
       "    <tr>\n",
       "      <th>359</th>\n",
       "      <td>-0.248115</td>\n",
       "    </tr>\n",
       "  </tbody>\n",
       "</table>\n",
       "<p>180 rows × 1 columns</p>\n",
       "</div>"
      ],
      "text/plain": [
       "         Value\n",
       "Time          \n",
       "180  -0.686543\n",
       "181  -0.613637\n",
       "182  -0.586606\n",
       "183  -0.545195\n",
       "184  -0.498517\n",
       "...        ...\n",
       "355  -0.246074\n",
       "356  -0.246784\n",
       "357  -0.248150\n",
       "358  -0.246841\n",
       "359  -0.248115\n",
       "\n",
       "[180 rows x 1 columns]"
      ]
     },
     "execution_count": 170,
     "metadata": {},
     "output_type": "execute_result"
    }
   ],
   "source": [
    "dataf[:PREV_SIZE+SIZE]"
   ]
  },
  {
   "cell_type": "code",
   "execution_count": 171,
   "metadata": {},
   "outputs": [],
   "source": [
    "loss_array = tf.losses.MAE(df2['Inner Temp.'][SIZE + PREV_SIZE:SIZE + PREV_SIZE+100],dataf['Value'][:100]).numpy()\n",
    "loss_array_2 = tf.losses.MAE(df2['Inner Temp.'][SIZE + PREV_SIZE:SIZE + PREV_SIZE+100],dataf2['Value'][int(SIZE/2):int(100+SIZE/2)]).numpy()"
   ]
  },
  {
   "cell_type": "code",
   "execution_count": 172,
   "metadata": {},
   "outputs": [
    {
     "name": "stdout",
     "output_type": "stream",
     "text": [
      "0.0315472 0.004650074\n"
     ]
    }
   ],
   "source": [
    "print(np.average(loss_array), np.average(loss_array_2))"
   ]
  },
  {
   "cell_type": "code",
   "execution_count": 173,
   "metadata": {},
   "outputs": [],
   "source": [
    "predictions = df.iloc[SIZE]"
   ]
  },
  {
   "cell_type": "code",
   "execution_count": 174,
   "metadata": {},
   "outputs": [],
   "source": [
    "times = (predictions.index)+PREV_SIZE + SIZE\n",
    "predicted = pd.DataFrame({'Time':times,'Inner Temp.':predictions})\n",
    "predicted = predicted.set_index('Time')"
   ]
  },
  {
   "cell_type": "code",
   "execution_count": 175,
   "metadata": {},
   "outputs": [],
   "source": [
    "real = df2[SIZE+PREV_SIZE:2*SIZE+PREV_SIZE]"
   ]
  },
  {
   "cell_type": "code",
   "execution_count": 176,
   "metadata": {},
   "outputs": [
    {
     "data": {
      "text/plain": [
       "[<matplotlib.lines.Line2D at 0x19ab3088820>]"
      ]
     },
     "execution_count": 176,
     "metadata": {},
     "output_type": "execute_result"
    },
    {
     "data": {
      "image/png": "[encoded data removed]",
      "text/plain": [
       "<Figure size 640x480 with 1 Axes>"
      ]
     },
     "metadata": {},
     "output_type": "display_data"
    }
   ],
   "source": [
    "plt.plot(real)\n",
    "plt.plot(predicted)"
   ]
  },
  {
   "cell_type": "code",
   "execution_count": 177,
   "metadata": {},
   "outputs": [
    {
     "data": {
      "text/plain": [
       "0.003042383722835211"
      ]
     },
     "execution_count": 177,
     "metadata": {},
     "output_type": "execute_result"
    }
   ],
   "source": [
    "mae = np.absolute(np.subtract(real['Inner Temp.'], predicted['Inner Temp.'])).mean()\n",
    "mae"
   ]
  }
 ],
 "metadata": {
  "kernelspec": {
   "display_name": "Python 3",
   "language": "python",
   "name": "python3"
  },
  "language_info": {
   "codemirror_mode": {
    "name": "ipython",
    "version": 3
   },
   "file_extension": ".py",
   "mimetype": "text/x-python",
   "name": "python",
   "nbconvert_exporter": "python",
   "pygments_lexer": "ipython3",
   "version": "3.10.11"
  },
  "orig_nbformat": 4
 },
 "nbformat": 4,
 "nbformat_minor": 2
}
