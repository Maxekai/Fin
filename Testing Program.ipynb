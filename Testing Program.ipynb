{
 "cells": [
  {
   "cell_type": "code",
   "execution_count": 1,
   "metadata": {},
   "outputs": [],
   "source": [
    "import numpy as np\n",
    "import tensorflow as tf\n",
    "import matplotlib.pyplot as plt\n",
    "import pandas as pd"
   ]
  },
  {
   "cell_type": "code",
   "execution_count": 2,
   "metadata": {},
   "outputs": [],
   "source": [
    "CHOSEN = 4"
   ]
  },
  {
   "cell_type": "code",
   "execution_count": 3,
   "metadata": {},
   "outputs": [],
   "source": [
    "new_model = tf.keras.models.load_model('./Models/m90_n90_s120_i150_l1600k/my_model')"
   ]
  },
  {
   "cell_type": "code",
   "execution_count": 4,
   "metadata": {},
   "outputs": [],
   "source": [
    "train_mean = pd.Series({'Outer Temp.':25.103154,'Initial Inner Temp.':69.712887,'Outer Ws':9.888763,'Inner Temp.':55.491773})\n",
    "train_std = pd.Series({'Outer Temp.':2.866545,'Initial Inner Temp.':5.794157,'Outer Ws':5.807717,'Inner Temp.':5.437240})\n",
    "\n"
   ]
  },
  {
   "cell_type": "code",
   "execution_count": 5,
   "metadata": {},
   "outputs": [
    {
     "name": "stdout",
     "output_type": "stream",
     "text": [
      "Num GPUs Available:  1\n"
     ]
    }
   ],
   "source": [
    "print(\"Num GPUs Available: \", len(tf.config.list_physical_devices('GPU')))"
   ]
  },
  {
   "cell_type": "code",
   "execution_count": 6,
   "metadata": {},
   "outputs": [
    {
     "data": {
      "text/plain": [
       "True"
      ]
     },
     "execution_count": 6,
     "metadata": {},
     "output_type": "execute_result"
    }
   ],
   "source": [
    "tf.test.is_built_with_gpu_support()"
   ]
  },
  {
   "cell_type": "code",
   "execution_count": 7,
   "metadata": {},
   "outputs": [],
   "source": [
    "PREV_SIZE = 90\n",
    "SIZE = 90"
   ]
  },
  {
   "cell_type": "code",
   "execution_count": 8,
   "metadata": {},
   "outputs": [],
   "source": [
    "class WindowGenerator():\n",
    "  def __init__(self, input_width, label_width, shift,\n",
    "               train_df, val_df, test_df,\n",
    "               label_columns=None):\n",
    "    # Store the raw data.\n",
    "    self.train_df = train_df\n",
    "    self.val_df = val_df\n",
    "    self.test_df = test_df\n",
    "\n",
    "    # Work out the label column indices.\n",
    "    self.label_columns = label_columns\n",
    "    if label_columns is not None:\n",
    "      self.label_columns_indices = {name: i for i, name in\n",
    "                                    enumerate(label_columns)}\n",
    "    self.column_indices = {name: i for i, name in\n",
    "                           enumerate(train_df.columns)}\n",
    "\n",
    "    # Work out the window parameters.\n",
    "    self.input_width = input_width\n",
    "    self.label_width = label_width\n",
    "    self.shift = shift\n",
    "\n",
    "    self.total_window_size = input_width + shift\n",
    "\n",
    "    self.input_slice = slice(0, input_width)\n",
    "    self.input_indices = np.arange(self.total_window_size)[self.input_slice]\n",
    "\n",
    "    self.label_start = self.total_window_size - self.label_width\n",
    "    self.labels_slice = slice(self.label_start, None)\n",
    "    self.label_indices = np.arange(self.total_window_size)[self.labels_slice]\n",
    "\n",
    "  def __repr__(self):\n",
    "    return '\\n'.join([\n",
    "        f'Total window size: {self.total_window_size}',\n",
    "        f'Input indices: {self.input_indices}',\n",
    "        f'Label indices: {self.label_indices}',\n",
    "        f'Label column name(s): {self.label_columns}'])"
   ]
  },
  {
   "cell_type": "code",
   "execution_count": 9,
   "metadata": {},
   "outputs": [],
   "source": [
    "def split_window(self, features):\n",
    "  inputs = features[:, self.input_slice, :]\n",
    "  labels = features[:, self.labels_slice, :]\n",
    "  if self.label_columns is not None:\n",
    "    labels = tf.stack(\n",
    "        [labels[:, :, self.column_indices[name]] for name in self.label_columns],\n",
    "        axis=-1)\n",
    "\n",
    "  # Slicing doesn't preserve static shape information, so set the shapes\n",
    "  # manually. This way the `tf.data.Datasets` are easier to inspect.\n",
    "  inputs.set_shape([None, self.input_width, None])\n",
    "  labels.set_shape([None, self.label_width, None])\n",
    "\n",
    "  return inputs, labels\n",
    "\n",
    "WindowGenerator.split_window = split_window"
   ]
  },
  {
   "cell_type": "code",
   "execution_count": 10,
   "metadata": {},
   "outputs": [],
   "source": [
    "def make_dataset(self, data):\n",
    "  data = np.array(data, dtype=np.float32)\n",
    "  ds = tf.keras.utils.timeseries_dataset_from_array(\n",
    "      data=data,\n",
    "      targets=None,\n",
    "      sequence_length=self.total_window_size,\n",
    "      sequence_stride=1,\n",
    "      shuffle=True,\n",
    "      batch_size=32,)\n",
    "\n",
    "  ds = ds.map(self.split_window)\n",
    "\n",
    "  return ds\n",
    "\n",
    "WindowGenerator.make_dataset = make_dataset"
   ]
  },
  {
   "cell_type": "code",
   "execution_count": 11,
   "metadata": {},
   "outputs": [],
   "source": [
    "@property\n",
    "def train(self):\n",
    "  return self.make_dataset(self.train_df)\n",
    "\n",
    "@property\n",
    "def val(self):\n",
    "  return self.make_dataset(self.val_df)\n",
    "\n",
    "@property\n",
    "def test(self):\n",
    "  return self.make_dataset(self.test_df)\n",
    "\n",
    "@property\n",
    "def example(self):\n",
    "  \"\"\"Get and cache an example batch of `inputs, labels` for plotting.\"\"\"\n",
    "  result = self.test\n",
    "  self._example = result\n",
    "  return result\n",
    "\n",
    "WindowGenerator.train = train\n",
    "WindowGenerator.val = val\n",
    "WindowGenerator.test = test\n",
    "WindowGenerator.example = example"
   ]
  },
  {
   "cell_type": "code",
   "execution_count": 12,
   "metadata": {},
   "outputs": [],
   "source": [
    "def split_window(self, features):\n",
    "  inputs = features[:, self.input_slice, :]\n",
    "  labels = features[:, self.labels_slice, :]\n",
    "  if self.label_columns is not None:\n",
    "    labels = tf.stack(\n",
    "        [labels[:, :, self.column_indices[name]] for name in self.label_columns],\n",
    "        axis=-1)\n",
    "\n",
    "  # Slicing doesn't preserve static shape information, so set the shapes\n",
    "  # manually. This way the `tf.data.Datasets` are easier to inspect.\n",
    "  inputs.set_shape([None, self.input_width, None])\n",
    "  labels.set_shape([None, self.label_width, None])\n",
    "\n",
    "  return inputs, labels\n",
    "\n",
    "WindowGenerator.split_window = split_window"
   ]
  },
  {
   "cell_type": "code",
   "execution_count": 13,
   "metadata": {},
   "outputs": [],
   "source": [
    "#HERE"
   ]
  },
  {
   "cell_type": "code",
   "execution_count": 14,
   "metadata": {},
   "outputs": [],
   "source": [
    "#new_model = tf.keras.models.load_model('m60_n90_s64_i100_l00k/my_model')\n",
    "#new_model = tf.keras.models.load_model('double_model_no_random/my_model')\n",
    "#new_model = tf.keras.models.load_model('model_60_24_con_sep100_800k_90_mae_2/my_model_noreg')"
   ]
  },
  {
   "cell_type": "code",
   "execution_count": 15,
   "metadata": {},
   "outputs": [],
   "source": [
    "#TEST 1* : 'training_cases_twov_90_escalon_t_int_2.csv'\n",
    "#TEST 1 'training_cases_twov_90_text_w16.csv'\n",
    "#TEST 2: 'training_cases_twov_90_text_w5.csv'"
   ]
  },
  {
   "cell_type": "code",
   "execution_count": 16,
   "metadata": {},
   "outputs": [],
   "source": [
    "#df2 = pd.read_csv('training_cases_twov_90_escalon_t_int_2.csv',header=0, index_col=0, sep = ';')\n",
    "#df2 = pd.read_csv('training_cases_twov_90_text_w16.csv',header=0, index_col=0, sep = ';')\n",
    "#df2 = pd.read_csv('training_cases_twov_90_text_w5.csv',header=0, index_col=0, sep = ';')\n",
    "#df2 = pd.read_csv('training_cases_twov_90_escalon_t_int_4_ctr-10_1.csv',header=0, index_col=0, sep = ';')\n"
   ]
  },
  {
   "cell_type": "code",
   "execution_count": 17,
   "metadata": {},
   "outputs": [],
   "source": [
    "df_list = []"
   ]
  },
  {
   "cell_type": "code",
   "execution_count": 18,
   "metadata": {},
   "outputs": [],
   "source": [
    "df_list.append(pd.read_csv('./Tests/ZTEST1training_cases_twov_90_text_w16.csv',header=0, index_col=0, sep = ';'))\n",
    "df_list.append(pd.read_csv('./Tests/ZTEST2training_cases_twov_90_text_w5.csv',header=0, index_col=0, sep = ';'))\n",
    "df_list.append(pd.read_csv('./Tests/ZTEST3training_cases_twov_90_tint_68_w8_22.csv',header=0, index_col=0, sep = ';'))\n",
    "df_list.append(pd.read_csv('./Tests/ZTEST4training_cases_twov_90_tint_73_w11_26.csv',header=0, index_col=0, sep = ';'))\n",
    "df_list.append(pd.read_csv('./Tests/ZTEST5training_cases_twov_90_text_24_27_cambiow_9_6.csv',header=0, index_col=0, sep = ';'))\n",
    "df_list.append(pd.read_csv('./Tests/ZTEST6training_cases_twov_90_tint_73_70_cambiow_15_11.csv',header=0, index_col=0, sep = ';'))\n",
    "df_list.append(pd.read_csv('./Tests/ZTEST7training_cases_twov_90_text_21_23_tint_74_69_w10.csv',header=0, index_col=0, sep = ';'))\n",
    "df_list.append(pd.read_csv('./Tests/ZTEST8training_cases_twov_90_text_26_24_tint_71_66_w_3_5.csv',header=0, index_col=0, sep = ';'))"
   ]
  },
  {
   "cell_type": "code",
   "execution_count": 19,
   "metadata": {},
   "outputs": [],
   "source": [
    "chosen_df = CHOSEN -1\n",
    "df2 = df_list[chosen_df]"
   ]
  },
  {
   "cell_type": "code",
   "execution_count": 20,
   "metadata": {},
   "outputs": [],
   "source": [
    "#zeros_df = pd.DataFrame(0, index=range(SIZE), columns=df2.columns)\n",
    "zeros_df = pd.DataFrame(0, index=range(SIZE-2), columns=df2.columns)\n",
    "df2 = pd.concat([zeros_df,df2],ignore_index=True)"
   ]
  },
  {
   "cell_type": "code",
   "execution_count": 21,
   "metadata": {},
   "outputs": [],
   "source": [
    "df2['Outer Temp.'] = (df2['Outer Temp.'] - train_mean['Outer Temp.']) / train_std['Outer Temp.']\n",
    "df2['Outer Ws'] = (df2['Outer Ws'] - train_mean['Outer Ws']) / train_std['Outer Ws']\n",
    "df2['Initial Inner Temp.'] = (df2['Initial Inner Temp.'] - train_mean['Initial Inner Temp.']) / train_std['Initial Inner Temp.']\n",
    "df2['Inner Temp.'] = (df2['Inner Temp.'] - train_mean['Inner Temp.']) / train_std['Inner Temp.']\n"
   ]
  },
  {
   "cell_type": "code",
   "execution_count": 22,
   "metadata": {},
   "outputs": [],
   "source": [
    "dataset = df2[0:300]"
   ]
  },
  {
   "cell_type": "code",
   "execution_count": 23,
   "metadata": {},
   "outputs": [
    {
     "data": {
      "text/plain": [
       "<BatchDataset element_spec=TensorSpec(shape=(None, None, 4), dtype=tf.float32, name=None)>"
      ]
     },
     "execution_count": 23,
     "metadata": {},
     "output_type": "execute_result"
    }
   ],
   "source": [
    "def make_dataset(data):\n",
    "  data = np.array(data, dtype=np.float32)\n",
    "  ds = tf.keras.utils.timeseries_dataset_from_array(\n",
    "      data=data,\n",
    "      targets=None,\n",
    "      sequence_length=PREV_SIZE,\n",
    "      sequence_stride=1,\n",
    "      shuffle=False,\n",
    "      batch_size=120)\n",
    "\n",
    "  return ds\n",
    "\n",
    "ds = make_dataset(dataset)\n",
    "\n",
    "ds"
   ]
  },
  {
   "cell_type": "code",
   "execution_count": 24,
   "metadata": {},
   "outputs": [
    {
     "name": "stdout",
     "output_type": "stream",
     "text": [
      "2/2 [==============================] - 1s 5ms/step\n"
     ]
    }
   ],
   "source": [
    "array = new_model.predict(ds)\n",
    "array = array [:,:,0]"
   ]
  },
  {
   "cell_type": "code",
   "execution_count": 25,
   "metadata": {},
   "outputs": [
    {
     "data": {
      "text/html": [
       "<div>\n",
       "<style scoped>\n",
       "    .dataframe tbody tr th:only-of-type {\n",
       "        vertical-align: middle;\n",
       "    }\n",
       "\n",
       "    .dataframe tbody tr th {\n",
       "        vertical-align: top;\n",
       "    }\n",
       "\n",
       "    .dataframe thead th {\n",
       "        text-align: right;\n",
       "    }\n",
       "</style>\n",
       "<table border=\"1\" class=\"dataframe\">\n",
       "  <thead>\n",
       "    <tr style=\"text-align: right;\">\n",
       "      <th></th>\n",
       "      <th>0</th>\n",
       "      <th>1</th>\n",
       "      <th>2</th>\n",
       "      <th>3</th>\n",
       "      <th>4</th>\n",
       "      <th>5</th>\n",
       "      <th>6</th>\n",
       "      <th>7</th>\n",
       "      <th>8</th>\n",
       "      <th>9</th>\n",
       "      <th>...</th>\n",
       "      <th>80</th>\n",
       "      <th>81</th>\n",
       "      <th>82</th>\n",
       "      <th>83</th>\n",
       "      <th>84</th>\n",
       "      <th>85</th>\n",
       "      <th>86</th>\n",
       "      <th>87</th>\n",
       "      <th>88</th>\n",
       "      <th>89</th>\n",
       "    </tr>\n",
       "  </thead>\n",
       "  <tbody>\n",
       "    <tr>\n",
       "      <th>0</th>\n",
       "      <td>-2.057539</td>\n",
       "      <td>-2.083787</td>\n",
       "      <td>-2.095957</td>\n",
       "      <td>-2.105370</td>\n",
       "      <td>-2.119935</td>\n",
       "      <td>-2.139855</td>\n",
       "      <td>-2.153466</td>\n",
       "      <td>-2.173972</td>\n",
       "      <td>-2.163574</td>\n",
       "      <td>-2.175362</td>\n",
       "      <td>...</td>\n",
       "      <td>-0.588202</td>\n",
       "      <td>-0.576188</td>\n",
       "      <td>-0.574899</td>\n",
       "      <td>-0.587590</td>\n",
       "      <td>-0.541003</td>\n",
       "      <td>-0.554820</td>\n",
       "      <td>-0.548278</td>\n",
       "      <td>-0.543749</td>\n",
       "      <td>-0.523750</td>\n",
       "      <td>-0.522114</td>\n",
       "    </tr>\n",
       "    <tr>\n",
       "      <th>1</th>\n",
       "      <td>-2.197657</td>\n",
       "      <td>-2.203207</td>\n",
       "      <td>-2.227072</td>\n",
       "      <td>-2.257735</td>\n",
       "      <td>-2.296595</td>\n",
       "      <td>-2.331665</td>\n",
       "      <td>-2.348137</td>\n",
       "      <td>-2.348215</td>\n",
       "      <td>-2.304292</td>\n",
       "      <td>-2.250634</td>\n",
       "      <td>...</td>\n",
       "      <td>-1.345505</td>\n",
       "      <td>-1.346884</td>\n",
       "      <td>-1.357187</td>\n",
       "      <td>-1.368754</td>\n",
       "      <td>-1.341689</td>\n",
       "      <td>-1.349203</td>\n",
       "      <td>-1.352520</td>\n",
       "      <td>-1.347267</td>\n",
       "      <td>-1.342143</td>\n",
       "      <td>-1.345923</td>\n",
       "    </tr>\n",
       "    <tr>\n",
       "      <th>2</th>\n",
       "      <td>-1.523478</td>\n",
       "      <td>-1.527189</td>\n",
       "      <td>-1.526432</td>\n",
       "      <td>-1.527344</td>\n",
       "      <td>-1.520659</td>\n",
       "      <td>-1.509828</td>\n",
       "      <td>-1.494633</td>\n",
       "      <td>-1.462537</td>\n",
       "      <td>-1.409120</td>\n",
       "      <td>-1.346500</td>\n",
       "      <td>...</td>\n",
       "      <td>-0.873370</td>\n",
       "      <td>-0.879913</td>\n",
       "      <td>-0.898836</td>\n",
       "      <td>-0.905606</td>\n",
       "      <td>-0.888111</td>\n",
       "      <td>-0.901896</td>\n",
       "      <td>-0.906560</td>\n",
       "      <td>-0.902546</td>\n",
       "      <td>-0.908269</td>\n",
       "      <td>-0.913448</td>\n",
       "    </tr>\n",
       "    <tr>\n",
       "      <th>3</th>\n",
       "      <td>-1.023749</td>\n",
       "      <td>-1.085673</td>\n",
       "      <td>-1.119263</td>\n",
       "      <td>-1.127445</td>\n",
       "      <td>-1.102319</td>\n",
       "      <td>-1.056267</td>\n",
       "      <td>-1.001429</td>\n",
       "      <td>-0.925263</td>\n",
       "      <td>-0.838587</td>\n",
       "      <td>-0.746824</td>\n",
       "      <td>...</td>\n",
       "      <td>-0.583909</td>\n",
       "      <td>-0.602733</td>\n",
       "      <td>-0.631310</td>\n",
       "      <td>-0.637022</td>\n",
       "      <td>-0.634326</td>\n",
       "      <td>-0.649013</td>\n",
       "      <td>-0.666055</td>\n",
       "      <td>-0.661822</td>\n",
       "      <td>-0.680958</td>\n",
       "      <td>-0.697559</td>\n",
       "    </tr>\n",
       "    <tr>\n",
       "      <th>4</th>\n",
       "      <td>-0.807858</td>\n",
       "      <td>-0.885609</td>\n",
       "      <td>-0.932505</td>\n",
       "      <td>-0.941170</td>\n",
       "      <td>-0.905466</td>\n",
       "      <td>-0.843701</td>\n",
       "      <td>-0.777453</td>\n",
       "      <td>-0.685089</td>\n",
       "      <td>-0.589897</td>\n",
       "      <td>-0.491617</td>\n",
       "      <td>...</td>\n",
       "      <td>-0.615383</td>\n",
       "      <td>-0.637161</td>\n",
       "      <td>-0.667964</td>\n",
       "      <td>-0.667589</td>\n",
       "      <td>-0.668033</td>\n",
       "      <td>-0.679382</td>\n",
       "      <td>-0.698738</td>\n",
       "      <td>-0.689562</td>\n",
       "      <td>-0.714112</td>\n",
       "      <td>-0.733780</td>\n",
       "    </tr>\n",
       "    <tr>\n",
       "      <th>...</th>\n",
       "      <td>...</td>\n",
       "      <td>...</td>\n",
       "      <td>...</td>\n",
       "      <td>...</td>\n",
       "      <td>...</td>\n",
       "      <td>...</td>\n",
       "      <td>...</td>\n",
       "      <td>...</td>\n",
       "      <td>...</td>\n",
       "      <td>...</td>\n",
       "      <td>...</td>\n",
       "      <td>...</td>\n",
       "      <td>...</td>\n",
       "      <td>...</td>\n",
       "      <td>...</td>\n",
       "      <td>...</td>\n",
       "      <td>...</td>\n",
       "      <td>...</td>\n",
       "      <td>...</td>\n",
       "      <td>...</td>\n",
       "      <td>...</td>\n",
       "    </tr>\n",
       "    <tr>\n",
       "      <th>206</th>\n",
       "      <td>0.063236</td>\n",
       "      <td>0.062253</td>\n",
       "      <td>0.062433</td>\n",
       "      <td>0.063224</td>\n",
       "      <td>0.062748</td>\n",
       "      <td>0.062441</td>\n",
       "      <td>0.061977</td>\n",
       "      <td>0.062813</td>\n",
       "      <td>0.062955</td>\n",
       "      <td>0.063233</td>\n",
       "      <td>...</td>\n",
       "      <td>0.064585</td>\n",
       "      <td>0.064455</td>\n",
       "      <td>0.064908</td>\n",
       "      <td>0.065271</td>\n",
       "      <td>0.064412</td>\n",
       "      <td>0.064388</td>\n",
       "      <td>0.063575</td>\n",
       "      <td>0.065015</td>\n",
       "      <td>0.063345</td>\n",
       "      <td>0.063782</td>\n",
       "    </tr>\n",
       "    <tr>\n",
       "      <th>207</th>\n",
       "      <td>0.062794</td>\n",
       "      <td>0.061715</td>\n",
       "      <td>0.061801</td>\n",
       "      <td>0.062507</td>\n",
       "      <td>0.061958</td>\n",
       "      <td>0.061591</td>\n",
       "      <td>0.061085</td>\n",
       "      <td>0.061899</td>\n",
       "      <td>0.062030</td>\n",
       "      <td>0.062317</td>\n",
       "      <td>...</td>\n",
       "      <td>0.065090</td>\n",
       "      <td>0.064959</td>\n",
       "      <td>0.065399</td>\n",
       "      <td>0.065762</td>\n",
       "      <td>0.064893</td>\n",
       "      <td>0.064867</td>\n",
       "      <td>0.064048</td>\n",
       "      <td>0.065489</td>\n",
       "      <td>0.063804</td>\n",
       "      <td>0.064241</td>\n",
       "    </tr>\n",
       "    <tr>\n",
       "      <th>208</th>\n",
       "      <td>0.062035</td>\n",
       "      <td>0.060881</td>\n",
       "      <td>0.060892</td>\n",
       "      <td>0.061538</td>\n",
       "      <td>0.060933</td>\n",
       "      <td>0.060526</td>\n",
       "      <td>0.059995</td>\n",
       "      <td>0.060812</td>\n",
       "      <td>0.060953</td>\n",
       "      <td>0.061271</td>\n",
       "      <td>...</td>\n",
       "      <td>0.064571</td>\n",
       "      <td>0.064440</td>\n",
       "      <td>0.064875</td>\n",
       "      <td>0.065240</td>\n",
       "      <td>0.064370</td>\n",
       "      <td>0.064351</td>\n",
       "      <td>0.063529</td>\n",
       "      <td>0.064975</td>\n",
       "      <td>0.063290</td>\n",
       "      <td>0.063728</td>\n",
       "    </tr>\n",
       "    <tr>\n",
       "      <th>209</th>\n",
       "      <td>0.060594</td>\n",
       "      <td>0.059362</td>\n",
       "      <td>0.059293</td>\n",
       "      <td>0.059883</td>\n",
       "      <td>0.059221</td>\n",
       "      <td>0.058778</td>\n",
       "      <td>0.058230</td>\n",
       "      <td>0.059062</td>\n",
       "      <td>0.059230</td>\n",
       "      <td>0.059589</td>\n",
       "      <td>...</td>\n",
       "      <td>0.062841</td>\n",
       "      <td>0.062712</td>\n",
       "      <td>0.063146</td>\n",
       "      <td>0.063512</td>\n",
       "      <td>0.062640</td>\n",
       "      <td>0.062631</td>\n",
       "      <td>0.061804</td>\n",
       "      <td>0.063256</td>\n",
       "      <td>0.061579</td>\n",
       "      <td>0.062016</td>\n",
       "    </tr>\n",
       "    <tr>\n",
       "      <th>210</th>\n",
       "      <td>0.059916</td>\n",
       "      <td>0.058665</td>\n",
       "      <td>0.058585</td>\n",
       "      <td>0.059170</td>\n",
       "      <td>0.058507</td>\n",
       "      <td>0.058069</td>\n",
       "      <td>0.057535</td>\n",
       "      <td>0.058395</td>\n",
       "      <td>0.058594</td>\n",
       "      <td>0.058993</td>\n",
       "      <td>...</td>\n",
       "      <td>0.064703</td>\n",
       "      <td>0.064579</td>\n",
       "      <td>0.065012</td>\n",
       "      <td>0.065391</td>\n",
       "      <td>0.064522</td>\n",
       "      <td>0.064515</td>\n",
       "      <td>0.063690</td>\n",
       "      <td>0.065149</td>\n",
       "      <td>0.063470</td>\n",
       "      <td>0.063914</td>\n",
       "    </tr>\n",
       "  </tbody>\n",
       "</table>\n",
       "<p>211 rows × 90 columns</p>\n",
       "</div>"
      ],
      "text/plain": [
       "           0         1         2         3         4         5         6    \n",
       "0   -2.057539 -2.083787 -2.095957 -2.105370 -2.119935 -2.139855 -2.153466  \\\n",
       "1   -2.197657 -2.203207 -2.227072 -2.257735 -2.296595 -2.331665 -2.348137   \n",
       "2   -1.523478 -1.527189 -1.526432 -1.527344 -1.520659 -1.509828 -1.494633   \n",
       "3   -1.023749 -1.085673 -1.119263 -1.127445 -1.102319 -1.056267 -1.001429   \n",
       "4   -0.807858 -0.885609 -0.932505 -0.941170 -0.905466 -0.843701 -0.777453   \n",
       "..        ...       ...       ...       ...       ...       ...       ...   \n",
       "206  0.063236  0.062253  0.062433  0.063224  0.062748  0.062441  0.061977   \n",
       "207  0.062794  0.061715  0.061801  0.062507  0.061958  0.061591  0.061085   \n",
       "208  0.062035  0.060881  0.060892  0.061538  0.060933  0.060526  0.059995   \n",
       "209  0.060594  0.059362  0.059293  0.059883  0.059221  0.058778  0.058230   \n",
       "210  0.059916  0.058665  0.058585  0.059170  0.058507  0.058069  0.057535   \n",
       "\n",
       "           7         8         9   ...        80        81        82   \n",
       "0   -2.173972 -2.163574 -2.175362  ... -0.588202 -0.576188 -0.574899  \\\n",
       "1   -2.348215 -2.304292 -2.250634  ... -1.345505 -1.346884 -1.357187   \n",
       "2   -1.462537 -1.409120 -1.346500  ... -0.873370 -0.879913 -0.898836   \n",
       "3   -0.925263 -0.838587 -0.746824  ... -0.583909 -0.602733 -0.631310   \n",
       "4   -0.685089 -0.589897 -0.491617  ... -0.615383 -0.637161 -0.667964   \n",
       "..        ...       ...       ...  ...       ...       ...       ...   \n",
       "206  0.062813  0.062955  0.063233  ...  0.064585  0.064455  0.064908   \n",
       "207  0.061899  0.062030  0.062317  ...  0.065090  0.064959  0.065399   \n",
       "208  0.060812  0.060953  0.061271  ...  0.064571  0.064440  0.064875   \n",
       "209  0.059062  0.059230  0.059589  ...  0.062841  0.062712  0.063146   \n",
       "210  0.058395  0.058594  0.058993  ...  0.064703  0.064579  0.065012   \n",
       "\n",
       "           83        84        85        86        87        88        89  \n",
       "0   -0.587590 -0.541003 -0.554820 -0.548278 -0.543749 -0.523750 -0.522114  \n",
       "1   -1.368754 -1.341689 -1.349203 -1.352520 -1.347267 -1.342143 -1.345923  \n",
       "2   -0.905606 -0.888111 -0.901896 -0.906560 -0.902546 -0.908269 -0.913448  \n",
       "3   -0.637022 -0.634326 -0.649013 -0.666055 -0.661822 -0.680958 -0.697559  \n",
       "4   -0.667589 -0.668033 -0.679382 -0.698738 -0.689562 -0.714112 -0.733780  \n",
       "..        ...       ...       ...       ...       ...       ...       ...  \n",
       "206  0.065271  0.064412  0.064388  0.063575  0.065015  0.063345  0.063782  \n",
       "207  0.065762  0.064893  0.064867  0.064048  0.065489  0.063804  0.064241  \n",
       "208  0.065240  0.064370  0.064351  0.063529  0.064975  0.063290  0.063728  \n",
       "209  0.063512  0.062640  0.062631  0.061804  0.063256  0.061579  0.062016  \n",
       "210  0.065391  0.064522  0.064515  0.063690  0.065149  0.063470  0.063914  \n",
       "\n",
       "[211 rows x 90 columns]"
      ]
     },
     "execution_count": 25,
     "metadata": {},
     "output_type": "execute_result"
    }
   ],
   "source": [
    "df = pd.DataFrame(array)\n",
    "df"
   ]
  },
  {
   "cell_type": "code",
   "execution_count": 26,
   "metadata": {},
   "outputs": [],
   "source": [
    "data29 = df[SIZE-1]\n",
    "data15 = df[int((SIZE/2)-1)]\n",
    "new_column = ((data29.index) * 1)+PREV_SIZE + SIZE\n",
    "new_column15 = ((data15.index) * 1)+PREV_SIZE + int(SIZE/2)"
   ]
  },
  {
   "cell_type": "code",
   "execution_count": 27,
   "metadata": {},
   "outputs": [],
   "source": [
    "dataf = pd.DataFrame({'Time': new_column,'Value': data29})\n",
    "dataf2 = pd.DataFrame({'Time': new_column15,'Value': data15})\n",
    "#dataf = dataf.set_index('Time')\n",
    "#dataf"
   ]
  },
  {
   "cell_type": "code",
   "execution_count": 28,
   "metadata": {},
   "outputs": [],
   "source": [
    "df2 = df2.drop(columns=['Outer Temp.','Initial Inner Temp.','Outer Ws'])"
   ]
  },
  {
   "cell_type": "code",
   "execution_count": 29,
   "metadata": {},
   "outputs": [
    {
     "data": {
      "text/html": [
       "<div>\n",
       "<style scoped>\n",
       "    .dataframe tbody tr th:only-of-type {\n",
       "        vertical-align: middle;\n",
       "    }\n",
       "\n",
       "    .dataframe tbody tr th {\n",
       "        vertical-align: top;\n",
       "    }\n",
       "\n",
       "    .dataframe thead th {\n",
       "        text-align: right;\n",
       "    }\n",
       "</style>\n",
       "<table border=\"1\" class=\"dataframe\">\n",
       "  <thead>\n",
       "    <tr style=\"text-align: right;\">\n",
       "      <th></th>\n",
       "      <th>Inner Temp.</th>\n",
       "    </tr>\n",
       "  </thead>\n",
       "  <tbody>\n",
       "    <tr>\n",
       "      <th>0</th>\n",
       "      <td>-10.205872</td>\n",
       "    </tr>\n",
       "    <tr>\n",
       "      <th>1</th>\n",
       "      <td>-10.205872</td>\n",
       "    </tr>\n",
       "    <tr>\n",
       "      <th>2</th>\n",
       "      <td>-10.205872</td>\n",
       "    </tr>\n",
       "    <tr>\n",
       "      <th>3</th>\n",
       "      <td>-10.205872</td>\n",
       "    </tr>\n",
       "    <tr>\n",
       "      <th>4</th>\n",
       "      <td>-10.205872</td>\n",
       "    </tr>\n",
       "    <tr>\n",
       "      <th>...</th>\n",
       "      <td>...</td>\n",
       "    </tr>\n",
       "    <tr>\n",
       "      <th>483</th>\n",
       "      <td>0.065312</td>\n",
       "    </tr>\n",
       "    <tr>\n",
       "      <th>484</th>\n",
       "      <td>0.063785</td>\n",
       "    </tr>\n",
       "    <tr>\n",
       "      <th>485</th>\n",
       "      <td>0.062783</td>\n",
       "    </tr>\n",
       "    <tr>\n",
       "      <th>486</th>\n",
       "      <td>0.061789</td>\n",
       "    </tr>\n",
       "    <tr>\n",
       "      <th>487</th>\n",
       "      <td>0.065305</td>\n",
       "    </tr>\n",
       "  </tbody>\n",
       "</table>\n",
       "<p>488 rows × 1 columns</p>\n",
       "</div>"
      ],
      "text/plain": [
       "     Inner Temp.\n",
       "0     -10.205872\n",
       "1     -10.205872\n",
       "2     -10.205872\n",
       "3     -10.205872\n",
       "4     -10.205872\n",
       "..           ...\n",
       "483     0.065312\n",
       "484     0.063785\n",
       "485     0.062783\n",
       "486     0.061789\n",
       "487     0.065305\n",
       "\n",
       "[488 rows x 1 columns]"
      ]
     },
     "execution_count": 29,
     "metadata": {},
     "output_type": "execute_result"
    }
   ],
   "source": [
    "df2"
   ]
  },
  {
   "cell_type": "code",
   "execution_count": 30,
   "metadata": {},
   "outputs": [],
   "source": [
    "dataf = dataf.set_index('Time')\n",
    "dataf2 = dataf2.set_index('Time')"
   ]
  },
  {
   "cell_type": "code",
   "execution_count": 31,
   "metadata": {},
   "outputs": [],
   "source": [
    "#plt.plot(dataf,'b')\n",
    "#plt.plot(dataf2,'g')\n",
    "#plt.plot(df2,'r')\n",
    "#plt.xlim(50,300)\n",
    "#plt.ylim(-1,1)"
   ]
  },
  {
   "cell_type": "code",
   "execution_count": 32,
   "metadata": {},
   "outputs": [],
   "source": [
    "#df2 = df2[SIZE + PREV_SIZE:SIZE + PREV_SIZE+100]"
   ]
  },
  {
   "cell_type": "code",
   "execution_count": 33,
   "metadata": {},
   "outputs": [
    {
     "data": {
      "text/html": [
       "<div>\n",
       "<style scoped>\n",
       "    .dataframe tbody tr th:only-of-type {\n",
       "        vertical-align: middle;\n",
       "    }\n",
       "\n",
       "    .dataframe tbody tr th {\n",
       "        vertical-align: top;\n",
       "    }\n",
       "\n",
       "    .dataframe thead th {\n",
       "        text-align: right;\n",
       "    }\n",
       "</style>\n",
       "<table border=\"1\" class=\"dataframe\">\n",
       "  <thead>\n",
       "    <tr style=\"text-align: right;\">\n",
       "      <th></th>\n",
       "      <th>Value</th>\n",
       "    </tr>\n",
       "    <tr>\n",
       "      <th>Time</th>\n",
       "      <th></th>\n",
       "    </tr>\n",
       "  </thead>\n",
       "  <tbody>\n",
       "    <tr>\n",
       "      <th>180</th>\n",
       "      <td>-0.522114</td>\n",
       "    </tr>\n",
       "    <tr>\n",
       "      <th>181</th>\n",
       "      <td>-1.345923</td>\n",
       "    </tr>\n",
       "    <tr>\n",
       "      <th>182</th>\n",
       "      <td>-0.913448</td>\n",
       "    </tr>\n",
       "    <tr>\n",
       "      <th>183</th>\n",
       "      <td>-0.697559</td>\n",
       "    </tr>\n",
       "    <tr>\n",
       "      <th>184</th>\n",
       "      <td>-0.733780</td>\n",
       "    </tr>\n",
       "    <tr>\n",
       "      <th>...</th>\n",
       "      <td>...</td>\n",
       "    </tr>\n",
       "    <tr>\n",
       "      <th>355</th>\n",
       "      <td>0.060712</td>\n",
       "    </tr>\n",
       "    <tr>\n",
       "      <th>356</th>\n",
       "      <td>0.064028</td>\n",
       "    </tr>\n",
       "    <tr>\n",
       "      <th>357</th>\n",
       "      <td>0.063257</td>\n",
       "    </tr>\n",
       "    <tr>\n",
       "      <th>358</th>\n",
       "      <td>0.063543</td>\n",
       "    </tr>\n",
       "    <tr>\n",
       "      <th>359</th>\n",
       "      <td>0.061875</td>\n",
       "    </tr>\n",
       "  </tbody>\n",
       "</table>\n",
       "<p>180 rows × 1 columns</p>\n",
       "</div>"
      ],
      "text/plain": [
       "         Value\n",
       "Time          \n",
       "180  -0.522114\n",
       "181  -1.345923\n",
       "182  -0.913448\n",
       "183  -0.697559\n",
       "184  -0.733780\n",
       "...        ...\n",
       "355   0.060712\n",
       "356   0.064028\n",
       "357   0.063257\n",
       "358   0.063543\n",
       "359   0.061875\n",
       "\n",
       "[180 rows x 1 columns]"
      ]
     },
     "execution_count": 33,
     "metadata": {},
     "output_type": "execute_result"
    }
   ],
   "source": [
    "dataf[:PREV_SIZE+SIZE]"
   ]
  },
  {
   "cell_type": "code",
   "execution_count": 34,
   "metadata": {},
   "outputs": [],
   "source": [
    "loss_array = tf.losses.MAE(df2['Inner Temp.'][SIZE + PREV_SIZE:SIZE + PREV_SIZE+100],dataf['Value'][:100]).numpy()\n",
    "loss_array_2 = tf.losses.MAE(df2['Inner Temp.'][SIZE + PREV_SIZE:SIZE + PREV_SIZE+100],dataf2['Value'][int(SIZE/2):int(100+SIZE/2)]).numpy()"
   ]
  },
  {
   "cell_type": "code",
   "execution_count": 35,
   "metadata": {},
   "outputs": [
    {
     "name": "stdout",
     "output_type": "stream",
     "text": [
      "0.36418468 0.030479383\n"
     ]
    }
   ],
   "source": [
    "print(np.average(loss_array), np.average(loss_array_2))"
   ]
  },
  {
   "cell_type": "code",
   "execution_count": 36,
   "metadata": {},
   "outputs": [],
   "source": [
    "predictions = df.iloc[SIZE]"
   ]
  },
  {
   "cell_type": "code",
   "execution_count": 37,
   "metadata": {},
   "outputs": [],
   "source": [
    "times = (predictions.index)+PREV_SIZE + SIZE\n",
    "predicted = pd.DataFrame({'Time':times,'Inner Temp.':predictions})\n",
    "predicted = predicted.set_index('Time')"
   ]
  },
  {
   "cell_type": "code",
   "execution_count": 38,
   "metadata": {},
   "outputs": [],
   "source": [
    "real = df2[SIZE+PREV_SIZE:2*SIZE+PREV_SIZE]"
   ]
  },
  {
   "cell_type": "code",
   "execution_count": 39,
   "metadata": {},
   "outputs": [
    {
     "data": {
      "text/plain": [
       "[<matplotlib.lines.Line2D at 0x1e59971d330>]"
      ]
     },
     "execution_count": 39,
     "metadata": {},
     "output_type": "execute_result"
    },
    {
     "data": {
      "image/png": "[encoded data removed]",
      "text/plain": [
       "<Figure size 640x480 with 1 Axes>"
      ]
     },
     "metadata": {},
     "output_type": "display_data"
    }
   ],
   "source": [
    "plt.plot(real)\n",
    "plt.plot(predicted)"
   ]
  },
  {
   "cell_type": "code",
   "execution_count": 40,
   "metadata": {},
   "outputs": [
    {
     "data": {
      "text/plain": [
       "0.004054684299396281"
      ]
     },
     "execution_count": 40,
     "metadata": {},
     "output_type": "execute_result"
    }
   ],
   "source": [
    "mae = np.absolute(np.subtract(real['Inner Temp.'], predicted['Inner Temp.'])).mean()\n",
    "mae"
   ]
  }
 ],
 "metadata": {
  "kernelspec": {
   "display_name": "Python 3",
   "language": "python",
   "name": "python3"
  },
  "language_info": {
   "codemirror_mode": {
    "name": "ipython",
    "version": 3
   },
   "file_extension": ".py",
   "mimetype": "text/x-python",
   "name": "python",
   "nbconvert_exporter": "python",
   "pygments_lexer": "ipython3",
   "version": "3.10.11"
  },
  "orig_nbformat": 4
 },
 "nbformat": 4,
 "nbformat_minor": 2
}
